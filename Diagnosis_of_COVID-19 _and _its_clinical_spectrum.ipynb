{
 "cells":[
  {
   "cell_type":"markdown",
   "source":[
    "# Diagnosis of COVID-19 and it's clinic spectrum\n",
    "\n",
    "![img](https:\/\/storage.googleapis.com\/kaggle-datasets-images\/574076\/1040311\/f8df71d8727691ca6a4fc1895bb134c3\/dataset-cover.png?t=2020-03-28-00-00-16)\n",
    "\n",
    "Background\n",
    "The World Health Organization (WHO) characterized the COVID-19, caused by the SARS-CoV-2, as a pandemic on March 11, while the exponential increase in the number of cases was risking to overwhelm health systems around the world with a demand for ICU beds far above the existing capacity, with regions of Italy being prominent examples.\n",
    "\n",
    "Brazil recorded the first case of SARS-CoV-2 on February 26, and the virus transmission evolved from imported cases only, to local and finally community transmission very rapidly, with the federal government declaring nationwide community transmission on March 20.\n",
    "\n",
    "Until March 27, the state of São Paulo had recorded 1,223 confirmed cases of COVID-19, with 68 related deaths, while the county of São Paulo, with a population of approximately 12 million people and where Hospital Israelita Albert Einstein is located, had 477 confirmed cases and 30 associated death, as of March 23. Both the state and the county of São Paulo decided to establish quarantine and social distancing measures, that will be enforced at least until early April, in an effort to slow the virus spread.\n",
    "\n",
    "One of the motivations for this challenge is the fact that in the context of an overwhelmed health system with the possible limitation to perform tests for the detection of SARS-CoV-2, testing every case would be impractical and tests results could be delayed even if only a target subpopulation would be tested.\n",
    "\n",
    "Dataset\n",
    "This dataset contains anonymized data from patients seen at the Hospital Israelita Albert Einstein, at São Paulo, Brazil, and who had samples collected to perform the SARS-CoV-2 RT-PCR and additional laboratory tests during a visit to the hospital.\n",
    "\n",
    "All data were anonymized following the best international practices and recommendations. All clinical data were standardized to have a mean of zero and a unit standard deviation.\n",
    "\n",
    "Task Details\n",
    "TASK 1\n",
    "• Predict confirmed COVID-19 cases among suspected cases.\n",
    "Based on the results of laboratory tests commonly collected for a suspected COVID-19 case during a visit to the emergency room, would it be possible to predict the test result for SARS-Cov-2 (positive\/negative)?\n",
    "\n",
    "TASK 2\n",
    "• Predict admission to general ward, semi-intensive unit or intensive care unit among confirmed COVID-19 cases.\n",
    "Based on the results of laboratory tests commonly collected among confirmed COVID-19 cases during a visit to the emergency room, would it be possible to predict which patients will need to be admitted to a general ward, semi-intensive unit or intensive care unit?\n",
    "\n",
    "Expected Submission\n",
    "Submit a notebook that implements the full lifecycle of data preparation, model creation and evaluation. Feel free to use this dataset plus any other data you have available. Since this is not a formal competition, you're not submitting a single submission file, but rather your whole approach to building a model.\n",
    "\n",
    "Evaluation\n",
    "This is not a formal competition, so we won't measure the results strictly against a given validation set using a strict metric. Rather, what we'd like to see is a well-defined process to build a model that can deliver decent results (evaluated by yourself).\n",
    "\n",
    "Our team will be looking at:\n",
    "\n",
    "Model Performance - How well does the model perform on the real data? Can it be generalized over time? Can it be applied to other scenarios? Was it overfit?\n",
    "Data Preparation - How well was the data analysed prior to feeding it into the model? Are there any useful visualisations? Does the reader learn any new techniques through this submission? A great entry will be informative, thought provoking, and fresh all at the same time.\n",
    "Documentation - Are your code, and notebook, and additional data sources well documented so a reader can understand what you did? Are your sources clearly cited? A high quality analysis should be concise and clear at each step so the rationale is easy to follow and the process is reproducible.\n",
    "Questions and More Info\n",
    "Additional questions and clarifications can be obtained at data4u@einstein.br\n",
    "\n",
    "Answers to most voted questions\n",
    "Missing data\n",
    "Decision making by health care professionals is a complex process, when physicians see a patient for the first time with an acute complaint (e.g., recent onset of fever and respiratory symptoms) they will take a medical history, perform a physical examination, and will base their decisions on this information. To order or not laboratory tests, and which ones to order, is among these decisions, and there is no standard set of tests that are ordered to every individual or to a specific condition. This will depend on the complaints, the findings on the physical examination, personal medical history (e.g., current and prior diagnosed diseases, medications under use, prior surgeries, vaccination), lifestyle habits (e.g., smoking, alcohol use, exercising), family medical history, and prior exposures (e.g., traveling, occupation).\n",
    "The dataset reflects the complexity of decision making during routine clinical care, as opposed to what happens on a more controlled research setting, and data sparsity is, therefore, expected.\n",
    "\n",
    "Variables in addition to laboratory results\n",
    "We understand that clinical and exposure data, in addition to the laboratory results, are invaluable information to be added to the models, but at this moment they are not available.\n",
    "\n",
    "Additional laboratory variables\n",
    "A main objective of this challenge is to develop a generalizable model that could be useful during routine clinical care, and although which laboratory exams are ordered can vary for different individuals, even with the same condition, we aimed at including laboratory tests more commonly order during a visit to the emergency room. So, if you found some additional laboratory test that was not included, it is because it was not considered as commonly order in this situation."
   ],
   "attachments":{
    
   },
   "metadata":{
    "datalore":{
     "node_id":"IO78zQYrDuEU00hCD7vtoj",
     "type":"MD",
     "hide_input_from_viewers":true,
     "hide_output_from_viewers":true
    }
   }
  },
  {
   "cell_type":"markdown",
   "source":[
    "### Librairy"
   ],
   "attachments":{
    
   },
   "metadata":{
    "datalore":{
     "node_id":"znpOJjoyPYi5tAUwRryHbq",
     "type":"MD",
     "hide_input_from_viewers":true,
     "hide_output_from_viewers":true
    }
   }
  },
  {
   "cell_type":"code",
   "source":[
    "#pip install snapml"
   ],
   "execution_count":1,
   "outputs":[
    
   ],
   "metadata":{
    "datalore":{
     "node_id":"Ba6WPaXXr5vyPQVUWS3D6U",
     "type":"CODE",
     "hide_input_from_viewers":true,
     "hide_output_from_viewers":true
    }
   }
  },
  {
   "cell_type":"code",
   "source":[
    "import numpy as np\n",
    "import pandas as pd \n",
    "import matplotlib.pyplot as plt\n",
    "import seaborn as sns\n",
    "\n",
    "from sklearn.linear_model import LinearRegression\n",
    "from sklearn.model_selection import train_test_split,RandomizedSearchCV\n",
    "from sklearn.ensemble import RandomForestClassifier\n",
    "from sklearn.linear_model import LogisticRegression\n",
    "from sklearn.neighbors import KNeighborsClassifier\n",
    "from sklearn.svm import SVC\n",
    "\n",
    "from sklearn.metrics import classification_report,confusion_matrix,accuracy_score,recall_score,roc_auc_score\n",
    "\n",
    "from scipy.stats import ks_2samp\n",
    "from imblearn.over_sampling import SMOTE\n",
    "import shape"
   ],
   "execution_count":2,
   "outputs":[
    
   ],
   "metadata":{
    "datalore":{
     "node_id":"1s5MDRwX1RKUb55Cn0R2wm",
     "type":"CODE",
     "hide_input_from_viewers":true,
     "hide_output_from_viewers":true
    }
   }
  },
  {
   "cell_type":"code",
   "source":[
    "%%capture\n",
    "from tqdm import tqdm_notebook as tqdm\n",
    "tqdm().pandas()"
   ],
   "execution_count":3,
   "outputs":[
    
   ],
   "metadata":{
    "datalore":{
     "node_id":"OK1ikeKBmbSORw5phJWyvq",
     "type":"CODE",
     "hide_input_from_viewers":true,
     "hide_output_from_viewers":true
    }
   }
  },
  {
   "cell_type":"code",
   "source":[
    "from tqdm import trange,tqdm_notebook\n",
    "from time import sleep \n",
    "for i in trange(4,desc=\"1st loop\"):\n",
    "    for j in trange(10,desc=\"2nd loop\"):\n",
    "        sleep(0.01)"
   ],
   "execution_count":4,
   "outputs":[
    {
     "name":"stderr",
     "text":[
      "\n",
      "\r1st loop:   0%|          | 0\/4 [00:00<?, ?it\/s]\u001b[A\r2nd loop:   0%|          | 0\/10 [00:00<?, ?it\/s]\r2nd loop: 100%|██████████| 10\/10 [00:00<00:00, 98.97it\/s]\r2nd loop: 100%|██████████| 10\/10 [00:00<00:00, 97.12it\/s]\n",
      "\n",
      "\r1st loop:  25%|██▌       | 1\/4 [00:00<00:00,  9.51it\/s]\u001b[A\r2nd loop:   0%|          | 0\/10 [00:00<?, ?it\/s]\r2nd loop: 100%|██████████| 10\/10 [00:00<00:00, 98.99it\/s]\r2nd loop: 100%|██████████| 10\/10 [00:00<00:00, 98.04it\/s]\n",
      "\n",
      "\r1st loop:  50%|█████     | 2\/4 [00:00<00:00,  9.50it\/s]\u001b[A\r2nd loop:   0%|          | 0\/10 [00:00<?, ?it\/s]\r2nd loop: 100%|██████████| 10\/10 [00:00<00:00, 99.01it\/s]\r2nd loop: 100%|██████████| 10\/10 [00:00<00:00, 98.03it\/s]\n",
      "\n",
      "\r1st loop:  75%|███████▌  | 3\/4 [00:00<00:00,  9.38it\/s]\u001b[A\r2nd loop:   0%|          | 0\/10 [00:00<?, ?it\/s]\r2nd loop: 100%|██████████| 10\/10 [00:00<00:00, 98.99it\/s]\r2nd loop: 100%|██████████| 10\/10 [00:00<00:00, 98.05it\/s]\n",
      "\n",
      "\r1st loop: 100%|██████████| 4\/4 [00:00<00:00,  9.41it\/s]\u001b[A\r1st loop: 100%|██████████| 4\/4 [00:00<00:00,  9.39it\/s]\n"
     ],
     "output_type":"stream"
    }
   ],
   "metadata":{
    "datalore":{
     "node_id":"tvfL85XexdqlXExip0RnO8",
     "type":"CODE",
     "hide_input_from_viewers":true,
     "hide_output_from_viewers":true
    }
   }
  },
  {
   "cell_type":"code",
   "source":[
    "#from snapml import RandomForestClassifier,LinearRegression,LogisticRegression"
   ],
   "execution_count":5,
   "outputs":[
    
   ],
   "metadata":{
    "datalore":{
     "node_id":"BSsPbuZBgXPjmq9GCcBCAd",
     "type":"CODE",
     "hide_input_from_viewers":true,
     "hide_output_from_viewers":true
    }
   }
  },
  {
   "cell_type":"markdown",
   "source":[
    "### Read Data"
   ],
   "attachments":{
    
   },
   "metadata":{
    "datalore":{
     "node_id":"Qc0HdWAGrq3oHSm3DKVyE9",
     "type":"MD",
     "hide_input_from_viewers":true,
     "hide_output_from_viewers":true
    }
   }
  },
  {
   "cell_type":"code",
   "source":[
    "df = pd.read_excel(\"\/data\/notebook_files\/dataset.xlsx\")\n",
    "df.head()"
   ],
   "execution_count":6,
   "outputs":[
    {
     "data":{
      "text\/html":[
       "<div>\n",
       "<style scoped>\n",
       "    .dataframe tbody tr th:only-of-type {\n",
       "        vertical-align: middle;\n",
       "    }\n",
       "\n",
       "    .dataframe tbody tr th {\n",
       "        vertical-align: top;\n",
       "    }\n",
       "\n",
       "    .dataframe thead th {\n",
       "        text-align: right;\n",
       "    }\n",
       "<\/style>\n",
       "<table border=\"1\" class=\"dataframe\">\n",
       "  <thead>\n",
       "    <tr style=\"text-align: right;\">\n",
       "      <th><\/th>\n",
       "      <th>Patient ID<\/th>\n",
       "      <th>Patient age quantile<\/th>\n",
       "      <th>SARS-Cov-2 exam result<\/th>\n",
       "      <th>Patient addmited to regular ward (1=yes, 0=no)<\/th>\n",
       "      <th>Patient addmited to semi-intensive unit (1=yes, 0=no)<\/th>\n",
       "      <th>Patient addmited to intensive care unit (1=yes, 0=no)<\/th>\n",
       "      <th>Hematocrit<\/th>\n",
       "      <th>Hemoglobin<\/th>\n",
       "      <th>Platelets<\/th>\n",
       "      <th>Mean platelet volume<\/th>\n",
       "      <th>...<\/th>\n",
       "      <th>Hb saturation (arterial blood gases)<\/th>\n",
       "      <th>pCO2 (arterial blood gas analysis)<\/th>\n",
       "      <th>Base excess (arterial blood gas analysis)<\/th>\n",
       "      <th>pH (arterial blood gas analysis)<\/th>\n",
       "      <th>Total CO2 (arterial blood gas analysis)<\/th>\n",
       "      <th>HCO3 (arterial blood gas analysis)<\/th>\n",
       "      <th>pO2 (arterial blood gas analysis)<\/th>\n",
       "      <th>Arteiral Fio2<\/th>\n",
       "      <th>Phosphor<\/th>\n",
       "      <th>ctO2 (arterial blood gas analysis)<\/th>\n",
       "    <\/tr>\n",
       "  <\/thead>\n",
       "  <tbody>\n",
       "    <tr>\n",
       "      <th>0<\/th>\n",
       "      <td>44477f75e8169d2<\/td>\n",
       "      <td>13<\/td>\n",
       "      <td>negative<\/td>\n",
       "      <td>0<\/td>\n",
       "      <td>0<\/td>\n",
       "      <td>0<\/td>\n",
       "      <td>NaN<\/td>\n",
       "      <td>NaN<\/td>\n",
       "      <td>NaN<\/td>\n",
       "      <td>NaN<\/td>\n",
       "      <td>...<\/td>\n",
       "      <td>NaN<\/td>\n",
       "      <td>NaN<\/td>\n",
       "      <td>NaN<\/td>\n",
       "      <td>NaN<\/td>\n",
       "      <td>NaN<\/td>\n",
       "      <td>NaN<\/td>\n",
       "      <td>NaN<\/td>\n",
       "      <td>NaN<\/td>\n",
       "      <td>NaN<\/td>\n",
       "      <td>NaN<\/td>\n",
       "    <\/tr>\n",
       "    <tr>\n",
       "      <th>1<\/th>\n",
       "      <td>126e9dd13932f68<\/td>\n",
       "      <td>17<\/td>\n",
       "      <td>negative<\/td>\n",
       "      <td>0<\/td>\n",
       "      <td>0<\/td>\n",
       "      <td>0<\/td>\n",
       "      <td>0.236515<\/td>\n",
       "      <td>-0.02234<\/td>\n",
       "      <td>-0.517413<\/td>\n",
       "      <td>0.010677<\/td>\n",
       "      <td>...<\/td>\n",
       "      <td>NaN<\/td>\n",
       "      <td>NaN<\/td>\n",
       "      <td>NaN<\/td>\n",
       "      <td>NaN<\/td>\n",
       "      <td>NaN<\/td>\n",
       "      <td>NaN<\/td>\n",
       "      <td>NaN<\/td>\n",
       "      <td>NaN<\/td>\n",
       "      <td>NaN<\/td>\n",
       "      <td>NaN<\/td>\n",
       "    <\/tr>\n",
       "    <tr>\n",
       "      <th>2<\/th>\n",
       "      <td>a46b4402a0e5696<\/td>\n",
       "      <td>8<\/td>\n",
       "      <td>negative<\/td>\n",
       "      <td>0<\/td>\n",
       "      <td>0<\/td>\n",
       "      <td>0<\/td>\n",
       "      <td>NaN<\/td>\n",
       "      <td>NaN<\/td>\n",
       "      <td>NaN<\/td>\n",
       "      <td>NaN<\/td>\n",
       "      <td>...<\/td>\n",
       "      <td>NaN<\/td>\n",
       "      <td>NaN<\/td>\n",
       "      <td>NaN<\/td>\n",
       "      <td>NaN<\/td>\n",
       "      <td>NaN<\/td>\n",
       "      <td>NaN<\/td>\n",
       "      <td>NaN<\/td>\n",
       "      <td>NaN<\/td>\n",
       "      <td>NaN<\/td>\n",
       "      <td>NaN<\/td>\n",
       "    <\/tr>\n",
       "    <tr>\n",
       "      <th>3<\/th>\n",
       "      <td>f7d619a94f97c45<\/td>\n",
       "      <td>5<\/td>\n",
       "      <td>negative<\/td>\n",
       "      <td>0<\/td>\n",
       "      <td>0<\/td>\n",
       "      <td>0<\/td>\n",
       "      <td>NaN<\/td>\n",
       "      <td>NaN<\/td>\n",
       "      <td>NaN<\/td>\n",
       "      <td>NaN<\/td>\n",
       "      <td>...<\/td>\n",
       "      <td>NaN<\/td>\n",
       "      <td>NaN<\/td>\n",
       "      <td>NaN<\/td>\n",
       "      <td>NaN<\/td>\n",
       "      <td>NaN<\/td>\n",
       "      <td>NaN<\/td>\n",
       "      <td>NaN<\/td>\n",
       "      <td>NaN<\/td>\n",
       "      <td>NaN<\/td>\n",
       "      <td>NaN<\/td>\n",
       "    <\/tr>\n",
       "    <tr>\n",
       "      <th>4<\/th>\n",
       "      <td>d9e41465789c2b5<\/td>\n",
       "      <td>15<\/td>\n",
       "      <td>negative<\/td>\n",
       "      <td>0<\/td>\n",
       "      <td>0<\/td>\n",
       "      <td>0<\/td>\n",
       "      <td>NaN<\/td>\n",
       "      <td>NaN<\/td>\n",
       "      <td>NaN<\/td>\n",
       "      <td>NaN<\/td>\n",
       "      <td>...<\/td>\n",
       "      <td>NaN<\/td>\n",
       "      <td>NaN<\/td>\n",
       "      <td>NaN<\/td>\n",
       "      <td>NaN<\/td>\n",
       "      <td>NaN<\/td>\n",
       "      <td>NaN<\/td>\n",
       "      <td>NaN<\/td>\n",
       "      <td>NaN<\/td>\n",
       "      <td>NaN<\/td>\n",
       "      <td>NaN<\/td>\n",
       "    <\/tr>\n",
       "  <\/tbody>\n",
       "<\/table>\n",
       "<p>5 rows × 111 columns<\/p>\n",
       "<\/div>"
      ]
     },
     "metadata":{
      
     },
     "output_type":"display_data"
    }
   ],
   "metadata":{
    "datalore":{
     "node_id":"MJIbjuABhvkleaCxQ4OxI1",
     "type":"CODE",
     "hide_input_from_viewers":true,
     "hide_output_from_viewers":true
    }
   }
  },
  {
   "cell_type":"markdown",
   "source":[
    
   ],
   "attachments":{
    
   },
   "metadata":{
    "datalore":{
     "node_id":"zlNNZ5ScegXh8Dg4BkuxPa",
     "type":"MD",
     "hide_input_from_viewers":true,
     "hide_output_from_viewers":true
    }
   }
  },
  {
   "cell_type":"markdown",
   "source":[
    "Resume :\n",
    "\n",
    "This notebook aims to predict if a patient is infected with COVID-19, given a set of clinical features.\n",
    "\n",
    "The dataset used was kindly provided by Hospital Israelita Albert Eistein, consisting of 5644 records and 101 variables.\n",
    "\n",
    "The study is divided as followed:\n",
    "\n",
    "- Basic EDA: Target Distribution and Missing Data\n",
    "- Attempt to input missing data with regression\n",
    "- Use smaller dataset containing no nulls (602 records and 18 variables)\n",
    "- Perform SMOTE to oversample minority class\n",
    "- Conduct GridSearch with some ML models (RF, LR, KNN, SVM)\n",
    "- Inspect model precitions using SHAP\n",
    "\n",
    "- Conclusion"
   ],
   "attachments":{
    
   },
   "metadata":{
    "datalore":{
     "node_id":"TvL1ZAf2RYfptZwFfqPff3",
     "type":"MD",
     "hide_input_from_viewers":true,
     "hide_output_from_viewers":true
    }
   }
  },
  {
   "cell_type":"markdown",
   "source":[
    "### Distribution of Target :"
   ],
   "attachments":{
    
   },
   "metadata":{
    "datalore":{
     "node_id":"nHXj8MZFQpOPbHK3WEvv8k",
     "type":"MD",
     "hide_input_from_viewers":true,
     "hide_output_from_viewers":true
    }
   }
  },
  {
   "cell_type":"code",
   "source":[
    "#Transform to numeric\n",
    "df[\"SARS-Cov-2 exam result\"] = df['SARS-Cov-2 exam result'].map({\"positive\":1,'negative':0})\n",
    "\n",
    "#Map detected\/not_detected and positive\/negative to 1 and 0 \n",
    "df = df.replace({\"positive\":1,\"negative\":0,'detected':1,'not_detected':0})\n",
    "\n",
    "df['SARS-Cov-2 exam result'].value_counts(normalize = True)"
   ],
   "execution_count":7,
   "outputs":[
    {
     "data":{
      "text\/html":[
       "<pre>0    0.901134\n",
       "1    0.098866\n",
       "Name: SARS-Cov-2 exam result, dtype: float64<\/pre>"
      ]
     },
     "metadata":{
      
     },
     "output_type":"display_data"
    }
   ],
   "metadata":{
    "datalore":{
     "node_id":"AwnDVpbY1nfBojv9fAy47E",
     "type":"CODE",
     "hide_input_from_viewers":true,
     "hide_output_from_viewers":true
    }
   }
  },
  {
   "cell_type":"markdown",
   "source":[
    "Note: \n",
    "\n",
    "This is an unbalanced dataset. As we can see, only 10% of the observations have tested positive. Will have to take this into account."
   ],
   "attachments":{
    
   },
   "metadata":{
    "datalore":{
     "node_id":"G6DQKggJN1mNqE4MbZJ6YG",
     "type":"MD",
     "hide_input_from_viewers":true,
     "hide_output_from_viewers":true
    }
   }
  },
  {
   "cell_type":"code",
   "source":[
    "df.dtypes"
   ],
   "execution_count":8,
   "outputs":[
    {
     "data":{
      "text\/html":[
       "<pre>Patient ID                                                object\n",
       "Patient age quantile                                       int64\n",
       "SARS-Cov-2 exam result                                     int64\n",
       "Patient addmited to regular ward (1=yes, 0=no)             int64\n",
       "Patient addmited to semi-intensive unit (1=yes, 0=no)      int64\n",
       "                                                          ...   \n",
       "HCO3 (arterial blood gas analysis)                       float64\n",
       "pO2 (arterial blood gas analysis)                        float64\n",
       "Arteiral Fio2                                            float64\n",
       "Phosphor                                                 float64\n",
       "ctO2 (arterial blood gas analysis)                       float64\n",
       "Length: 111, dtype: object<\/pre>"
      ]
     },
     "metadata":{
      
     },
     "output_type":"display_data"
    }
   ],
   "metadata":{
    "datalore":{
     "node_id":"UC6oITSwRherrB7vMRQUbM",
     "type":"CODE",
     "hide_input_from_viewers":true,
     "hide_output_from_viewers":true
    }
   }
  },
  {
   "cell_type":"code",
   "source":[
    "df.describe()"
   ],
   "execution_count":9,
   "outputs":[
    {
     "data":{
      "text\/html":[
       "<div>\n",
       "<style scoped>\n",
       "    .dataframe tbody tr th:only-of-type {\n",
       "        vertical-align: middle;\n",
       "    }\n",
       "\n",
       "    .dataframe tbody tr th {\n",
       "        vertical-align: top;\n",
       "    }\n",
       "\n",
       "    .dataframe thead th {\n",
       "        text-align: right;\n",
       "    }\n",
       "<\/style>\n",
       "<table border=\"1\" class=\"dataframe\">\n",
       "  <thead>\n",
       "    <tr style=\"text-align: right;\">\n",
       "      <th><\/th>\n",
       "      <th>Patient age quantile<\/th>\n",
       "      <th>SARS-Cov-2 exam result<\/th>\n",
       "      <th>Patient addmited to regular ward (1=yes, 0=no)<\/th>\n",
       "      <th>Patient addmited to semi-intensive unit (1=yes, 0=no)<\/th>\n",
       "      <th>Patient addmited to intensive care unit (1=yes, 0=no)<\/th>\n",
       "      <th>Hematocrit<\/th>\n",
       "      <th>Hemoglobin<\/th>\n",
       "      <th>Platelets<\/th>\n",
       "      <th>Mean platelet volume<\/th>\n",
       "      <th>Red blood Cells<\/th>\n",
       "      <th>...<\/th>\n",
       "      <th>Hb saturation (arterial blood gases)<\/th>\n",
       "      <th>pCO2 (arterial blood gas analysis)<\/th>\n",
       "      <th>Base excess (arterial blood gas analysis)<\/th>\n",
       "      <th>pH (arterial blood gas analysis)<\/th>\n",
       "      <th>Total CO2 (arterial blood gas analysis)<\/th>\n",
       "      <th>HCO3 (arterial blood gas analysis)<\/th>\n",
       "      <th>pO2 (arterial blood gas analysis)<\/th>\n",
       "      <th>Arteiral Fio2<\/th>\n",
       "      <th>Phosphor<\/th>\n",
       "      <th>ctO2 (arterial blood gas analysis)<\/th>\n",
       "    <\/tr>\n",
       "  <\/thead>\n",
       "  <tbody>\n",
       "    <tr>\n",
       "      <th>count<\/th>\n",
       "      <td>5644.000000<\/td>\n",
       "      <td>5644.000000<\/td>\n",
       "      <td>5644.000000<\/td>\n",
       "      <td>5644.000000<\/td>\n",
       "      <td>5644.000000<\/td>\n",
       "      <td>6.030000e+02<\/td>\n",
       "      <td>6.030000e+02<\/td>\n",
       "      <td>6.020000e+02<\/td>\n",
       "      <td>5.990000e+02<\/td>\n",
       "      <td>6.020000e+02<\/td>\n",
       "      <td>...<\/td>\n",
       "      <td>2.700000e+01<\/td>\n",
       "      <td>2.700000e+01<\/td>\n",
       "      <td>2.700000e+01<\/td>\n",
       "      <td>2.700000e+01<\/td>\n",
       "      <td>2.700000e+01<\/td>\n",
       "      <td>2.700000e+01<\/td>\n",
       "      <td>2.700000e+01<\/td>\n",
       "      <td>2.000000e+01<\/td>\n",
       "      <td>2.000000e+01<\/td>\n",
       "      <td>2.700000e+01<\/td>\n",
       "    <\/tr>\n",
       "    <tr>\n",
       "      <th>mean<\/th>\n",
       "      <td>9.318391<\/td>\n",
       "      <td>0.098866<\/td>\n",
       "      <td>0.013997<\/td>\n",
       "      <td>0.008859<\/td>\n",
       "      <td>0.007264<\/td>\n",
       "      <td>-2.186214e-09<\/td>\n",
       "      <td>-1.601319e-08<\/td>\n",
       "      <td>-3.535004e-10<\/td>\n",
       "      <td>7.438142e-09<\/td>\n",
       "      <td>8.424447e-09<\/td>\n",
       "      <td>...<\/td>\n",
       "      <td>-1.379737e-10<\/td>\n",
       "      <td>8.416397e-09<\/td>\n",
       "      <td>-1.655685e-09<\/td>\n",
       "      <td>4.139211e-10<\/td>\n",
       "      <td>-7.472139e-09<\/td>\n",
       "      <td>6.070843e-09<\/td>\n",
       "      <td>-2.469729e-08<\/td>\n",
       "      <td>4.656613e-09<\/td>\n",
       "      <td>6.332993e-09<\/td>\n",
       "      <td>5.243001e-09<\/td>\n",
       "    <\/tr>\n",
       "    <tr>\n",
       "      <th>std<\/th>\n",
       "      <td>5.777903<\/td>\n",
       "      <td>0.298509<\/td>\n",
       "      <td>0.117489<\/td>\n",
       "      <td>0.093713<\/td>\n",
       "      <td>0.084929<\/td>\n",
       "      <td>1.000830e+00<\/td>\n",
       "      <td>1.000830e+00<\/td>\n",
       "      <td>1.000832e+00<\/td>\n",
       "      <td>1.000836e+00<\/td>\n",
       "      <td>1.000832e+00<\/td>\n",
       "      <td>...<\/td>\n",
       "      <td>1.019049e+00<\/td>\n",
       "      <td>1.019049e+00<\/td>\n",
       "      <td>1.019049e+00<\/td>\n",
       "      <td>1.019049e+00<\/td>\n",
       "      <td>1.019049e+00<\/td>\n",
       "      <td>1.019049e+00<\/td>\n",
       "      <td>1.019049e+00<\/td>\n",
       "      <td>1.025978e+00<\/td>\n",
       "      <td>1.025978e+00<\/td>\n",
       "      <td>1.019049e+00<\/td>\n",
       "    <\/tr>\n",
       "    <tr>\n",
       "      <th>min<\/th>\n",
       "      <td>0.000000<\/td>\n",
       "      <td>0.000000<\/td>\n",
       "      <td>0.000000<\/td>\n",
       "      <td>0.000000<\/td>\n",
       "      <td>0.000000<\/td>\n",
       "      <td>-4.501420e+00<\/td>\n",
       "      <td>-4.345603e+00<\/td>\n",
       "      <td>-2.552426e+00<\/td>\n",
       "      <td>-2.457575e+00<\/td>\n",
       "      <td>-3.970608e+00<\/td>\n",
       "      <td>...<\/td>\n",
       "      <td>-1.999560e+00<\/td>\n",
       "      <td>-1.244817e+00<\/td>\n",
       "      <td>-3.082674e+00<\/td>\n",
       "      <td>-3.568877e+00<\/td>\n",
       "      <td>-2.925618e+00<\/td>\n",
       "      <td>-2.985592e+00<\/td>\n",
       "      <td>-1.175907e+00<\/td>\n",
       "      <td>-1.532932e+00<\/td>\n",
       "      <td>-1.480526e+00<\/td>\n",
       "      <td>-2.900254e+00<\/td>\n",
       "    <\/tr>\n",
       "    <tr>\n",
       "      <th>25%<\/th>\n",
       "      <td>4.000000<\/td>\n",
       "      <td>0.000000<\/td>\n",
       "      <td>0.000000<\/td>\n",
       "      <td>0.000000<\/td>\n",
       "      <td>0.000000<\/td>\n",
       "      <td>-5.188074e-01<\/td>\n",
       "      <td>-5.862439e-01<\/td>\n",
       "      <td>-6.053457e-01<\/td>\n",
       "      <td>-6.624832e-01<\/td>\n",
       "      <td>-5.679496e-01<\/td>\n",
       "      <td>...<\/td>\n",
       "      <td>-1.122574e+00<\/td>\n",
       "      <td>-5.348102e-01<\/td>\n",
       "      <td>-3.308668e-01<\/td>\n",
       "      <td>-9.210583e-02<\/td>\n",
       "      <td>-5.117720e-01<\/td>\n",
       "      <td>-5.397211e-01<\/td>\n",
       "      <td>-8.169898e-01<\/td>\n",
       "      <td>-1.214975e-01<\/td>\n",
       "      <td>-5.527296e-01<\/td>\n",
       "      <td>-4.852787e-01<\/td>\n",
       "    <\/tr>\n",
       "    <tr>\n",
       "      <th>50%<\/th>\n",
       "      <td>9.000000<\/td>\n",
       "      <td>0.000000<\/td>\n",
       "      <td>0.000000<\/td>\n",
       "      <td>0.000000<\/td>\n",
       "      <td>0.000000<\/td>\n",
       "      <td>5.340703e-02<\/td>\n",
       "      <td>4.031596e-02<\/td>\n",
       "      <td>-1.217160e-01<\/td>\n",
       "      <td>-1.015171e-01<\/td>\n",
       "      <td>1.385207e-02<\/td>\n",
       "      <td>...<\/td>\n",
       "      <td>2.677689e-01<\/td>\n",
       "      <td>-2.120799e-01<\/td>\n",
       "      <td>-1.181667e-02<\/td>\n",
       "      <td>2.942021e-01<\/td>\n",
       "      <td>7.743482e-02<\/td>\n",
       "      <td>5.633191e-02<\/td>\n",
       "      <td>-1.599549e-01<\/td>\n",
       "      <td>-1.174366e-02<\/td>\n",
       "      <td>-1.381825e-01<\/td>\n",
       "      <td>1.826928e-01<\/td>\n",
       "    <\/tr>\n",
       "    <tr>\n",
       "      <th>75%<\/th>\n",
       "      <td>14.000000<\/td>\n",
       "      <td>0.000000<\/td>\n",
       "      <td>0.000000<\/td>\n",
       "      <td>0.000000<\/td>\n",
       "      <td>0.000000<\/td>\n",
       "      <td>7.171751e-01<\/td>\n",
       "      <td>7.295320e-01<\/td>\n",
       "      <td>5.314981e-01<\/td>\n",
       "      <td>6.838353e-01<\/td>\n",
       "      <td>6.661759e-01<\/td>\n",
       "      <td>...<\/td>\n",
       "      <td>7.383496e-01<\/td>\n",
       "      <td>2.305214e-02<\/td>\n",
       "      <td>6.661649e-01<\/td>\n",
       "      <td>5.115003e-01<\/td>\n",
       "      <td>4.385609e-01<\/td>\n",
       "      <td>5.085100e-01<\/td>\n",
       "      <td>4.500090e-01<\/td>\n",
       "      <td>-1.174366e-02<\/td>\n",
       "      <td>2.763648e-01<\/td>\n",
       "      <td>5.937525e-01<\/td>\n",
       "    <\/tr>\n",
       "    <tr>\n",
       "      <th>max<\/th>\n",
       "      <td>19.000000<\/td>\n",
       "      <td>1.000000<\/td>\n",
       "      <td>1.000000<\/td>\n",
       "      <td>1.000000<\/td>\n",
       "      <td>1.000000<\/td>\n",
       "      <td>2.662704e+00<\/td>\n",
       "      <td>2.671868e+00<\/td>\n",
       "      <td>9.532034e+00<\/td>\n",
       "      <td>3.713052e+00<\/td>\n",
       "      <td>3.645706e+00<\/td>\n",
       "      <td>...<\/td>\n",
       "      <td>1.337265e+00<\/td>\n",
       "      <td>3.236524e+00<\/td>\n",
       "      <td>1.703078e+00<\/td>\n",
       "      <td>1.042674e+00<\/td>\n",
       "      <td>1.940087e+00<\/td>\n",
       "      <td>2.029471e+00<\/td>\n",
       "      <td>2.205371e+00<\/td>\n",
       "      <td>2.841856e+00<\/td>\n",
       "      <td>2.862350e+00<\/td>\n",
       "      <td>1.826932e+00<\/td>\n",
       "    <\/tr>\n",
       "  <\/tbody>\n",
       "<\/table>\n",
       "<p>8 rows × 94 columns<\/p>\n",
       "<\/div>"
      ]
     },
     "metadata":{
      
     },
     "output_type":"display_data"
    }
   ],
   "metadata":{
    "datalore":{
     "node_id":"U628JK9uqeXV22u7nr8QTs",
     "type":"CODE",
     "hide_input_from_viewers":true,
     "hide_output_from_viewers":true
    }
   }
  },
  {
   "cell_type":"code",
   "source":[
    "df['SARS-Cov-2 exam result'].head(3)"
   ],
   "execution_count":10,
   "outputs":[
    {
     "data":{
      "text\/html":[
       "<pre>0    0\n",
       "1    0\n",
       "2    0\n",
       "Name: SARS-Cov-2 exam result, dtype: int64<\/pre>"
      ]
     },
     "metadata":{
      
     },
     "output_type":"display_data"
    }
   ],
   "metadata":{
    "datalore":{
     "node_id":"htHstIi78oHfNPMbIIpJjE",
     "type":"CODE",
     "hide_input_from_viewers":true,
     "hide_output_from_viewers":true
    }
   }
  },
  {
   "cell_type":"markdown",
   "source":[
    "### Percentage of Nulls by Column"
   ],
   "attachments":{
    
   },
   "metadata":{
    "datalore":{
     "node_id":"FsnLzudkjBMKHeubHDntlq",
     "type":"MD",
     "hide_input_from_viewers":true,
     "hide_output_from_viewers":true
    }
   }
  },
  {
   "cell_type":"code",
   "source":[
    "dfNull_pct = df.isna().mean().round(4)*100\n",
    "dfNull_pct.sort_values(ascending=False)"
   ],
   "execution_count":11,
   "outputs":[
    {
     "data":{
      "text\/html":[
       "<pre>Urine - Sugar                                            100.0\n",
       "Mycoplasma pneumoniae                                    100.0\n",
       "Partial thromboplastin time (PTT)                        100.0\n",
       "Prothrombin time (PT), Activity                          100.0\n",
       "D-Dimer                                                  100.0\n",
       "                                                         ...  \n",
       "SARS-Cov-2 exam result                                     0.0\n",
       "Patient age quantile                                       0.0\n",
       "Patient addmited to semi-intensive unit (1=yes, 0=no)      0.0\n",
       "Patient addmited to intensive care unit (1=yes, 0=no)      0.0\n",
       "Patient ID                                                 0.0\n",
       "Length: 111, dtype: float64<\/pre>"
      ]
     },
     "metadata":{
      
     },
     "output_type":"display_data"
    }
   ],
   "metadata":{
    "datalore":{
     "node_id":"tEwNhh3HmpgpQ3wAvmNbO5",
     "type":"CODE",
     "hide_input_from_viewers":true,
     "hide_output_from_viewers":true
    }
   }
  },
  {
   "cell_type":"markdown",
   "source":[
    "Note : \n",
    "\n",
    "Aside from target unbalance, it seems that we have a lot of nulls in our dataset. In fact, we have columns with all null values. Let's check this distribution:"
   ],
   "attachments":{
    
   },
   "metadata":{
    "datalore":{
     "node_id":"rmwygbYXcQB93GnUhDkoeU",
     "type":"MD",
     "hide_input_from_viewers":true,
     "hide_output_from_viewers":true
    }
   }
  },
  {
   "cell_type":"code",
   "source":[
    "dfNull_pct.plot(kind='hist')"
   ],
   "execution_count":12,
   "outputs":[
    {
     "data":{
      "text\/plain":[
       "<AxesSubplot:ylabel='Frequency'>"
      ]
     },
     "metadata":{
      
     },
     "output_type":"display_data"
    },
    {
     "data":{
      "image\/png":"[encoded data removed]"
     },
     "metadata":{
      "image\/png":{
       
      }
     },
     "output_type":"display_data"
    }
   ],
   "metadata":{
    "datalore":{
     "node_id":"ix67U9cR42wBVDayTOmUHK",
     "type":"CODE",
     "hide_input_from_viewers":true,
     "hide_output_from_viewers":true
    }
   }
  },
  {
   "cell_type":"markdown",
   "source":[
    "Note: \n",
    "\n",
    "The situation is bad. Most of the features have at least 80% of null values, with a high amout above 90%. One could choose to try to input those values, but that would be a colossal assumption (to input 90% based on 10%) and render our model useless. Garbabe In, Garbage Out. It may hurt, but I chose to drop all columns containing at least 90% of null values."
   ],
   "attachments":{
    
   },
   "metadata":{
    "datalore":{
     "node_id":"Mds96V37H1RJK1ZaKh2VD4",
     "type":"MD",
     "hide_input_from_viewers":true,
     "hide_output_from_viewers":true
    }
   }
  },
  {
   "cell_type":"markdown",
   "source":[
    "### Remove Feature with > 90 % nullvalues "
   ],
   "attachments":{
    
   },
   "metadata":{
    "datalore":{
     "node_id":"O8ANP2wwjjSErlWYq7UQLc",
     "type":"MD",
     "hide_input_from_viewers":true,
     "hide_output_from_viewers":true
    }
   }
  },
  {
   "cell_type":"code",
   "source":[
    "nulls = dfNull_pct[dfNull_pct > 90 ]\n",
    "df = df[[col for col in df.columns if col not in nulls]]\n",
    "df.head()"
   ],
   "execution_count":13,
   "outputs":[
    {
     "data":{
      "text\/html":[
       "<div>\n",
       "<style scoped>\n",
       "    .dataframe tbody tr th:only-of-type {\n",
       "        vertical-align: middle;\n",
       "    }\n",
       "\n",
       "    .dataframe tbody tr th {\n",
       "        vertical-align: top;\n",
       "    }\n",
       "\n",
       "    .dataframe thead th {\n",
       "        text-align: right;\n",
       "    }\n",
       "<\/style>\n",
       "<table border=\"1\" class=\"dataframe\">\n",
       "  <thead>\n",
       "    <tr style=\"text-align: right;\">\n",
       "      <th><\/th>\n",
       "      <th>Patient ID<\/th>\n",
       "      <th>Patient age quantile<\/th>\n",
       "      <th>SARS-Cov-2 exam result<\/th>\n",
       "      <th>Patient addmited to regular ward (1=yes, 0=no)<\/th>\n",
       "      <th>Patient addmited to semi-intensive unit (1=yes, 0=no)<\/th>\n",
       "      <th>Patient addmited to intensive care unit (1=yes, 0=no)<\/th>\n",
       "      <th>Hematocrit<\/th>\n",
       "      <th>Hemoglobin<\/th>\n",
       "      <th>Platelets<\/th>\n",
       "      <th>Mean platelet volume<\/th>\n",
       "      <th>...<\/th>\n",
       "      <th>Adenovirus<\/th>\n",
       "      <th>Parainfluenza 4<\/th>\n",
       "      <th>Coronavirus229E<\/th>\n",
       "      <th>CoronavirusOC43<\/th>\n",
       "      <th>Inf A H1N1 2009<\/th>\n",
       "      <th>Bordetella pertussis<\/th>\n",
       "      <th>Metapneumovirus<\/th>\n",
       "      <th>Parainfluenza 2<\/th>\n",
       "      <th>Influenza B, rapid test<\/th>\n",
       "      <th>Influenza A, rapid test<\/th>\n",
       "    <\/tr>\n",
       "  <\/thead>\n",
       "  <tbody>\n",
       "    <tr>\n",
       "      <th>0<\/th>\n",
       "      <td>44477f75e8169d2<\/td>\n",
       "      <td>13<\/td>\n",
       "      <td>0<\/td>\n",
       "      <td>0<\/td>\n",
       "      <td>0<\/td>\n",
       "      <td>0<\/td>\n",
       "      <td>NaN<\/td>\n",
       "      <td>NaN<\/td>\n",
       "      <td>NaN<\/td>\n",
       "      <td>NaN<\/td>\n",
       "      <td>...<\/td>\n",
       "      <td>NaN<\/td>\n",
       "      <td>NaN<\/td>\n",
       "      <td>NaN<\/td>\n",
       "      <td>NaN<\/td>\n",
       "      <td>NaN<\/td>\n",
       "      <td>NaN<\/td>\n",
       "      <td>NaN<\/td>\n",
       "      <td>NaN<\/td>\n",
       "      <td>NaN<\/td>\n",
       "      <td>NaN<\/td>\n",
       "    <\/tr>\n",
       "    <tr>\n",
       "      <th>1<\/th>\n",
       "      <td>126e9dd13932f68<\/td>\n",
       "      <td>17<\/td>\n",
       "      <td>0<\/td>\n",
       "      <td>0<\/td>\n",
       "      <td>0<\/td>\n",
       "      <td>0<\/td>\n",
       "      <td>0.236515<\/td>\n",
       "      <td>-0.02234<\/td>\n",
       "      <td>-0.517413<\/td>\n",
       "      <td>0.010677<\/td>\n",
       "      <td>...<\/td>\n",
       "      <td>0.0<\/td>\n",
       "      <td>0.0<\/td>\n",
       "      <td>0.0<\/td>\n",
       "      <td>0.0<\/td>\n",
       "      <td>0.0<\/td>\n",
       "      <td>0.0<\/td>\n",
       "      <td>0.0<\/td>\n",
       "      <td>0.0<\/td>\n",
       "      <td>0.0<\/td>\n",
       "      <td>0.0<\/td>\n",
       "    <\/tr>\n",
       "    <tr>\n",
       "      <th>2<\/th>\n",
       "      <td>a46b4402a0e5696<\/td>\n",
       "      <td>8<\/td>\n",
       "      <td>0<\/td>\n",
       "      <td>0<\/td>\n",
       "      <td>0<\/td>\n",
       "      <td>0<\/td>\n",
       "      <td>NaN<\/td>\n",
       "      <td>NaN<\/td>\n",
       "      <td>NaN<\/td>\n",
       "      <td>NaN<\/td>\n",
       "      <td>...<\/td>\n",
       "      <td>NaN<\/td>\n",
       "      <td>NaN<\/td>\n",
       "      <td>NaN<\/td>\n",
       "      <td>NaN<\/td>\n",
       "      <td>NaN<\/td>\n",
       "      <td>NaN<\/td>\n",
       "      <td>NaN<\/td>\n",
       "      <td>NaN<\/td>\n",
       "      <td>NaN<\/td>\n",
       "      <td>NaN<\/td>\n",
       "    <\/tr>\n",
       "    <tr>\n",
       "      <th>3<\/th>\n",
       "      <td>f7d619a94f97c45<\/td>\n",
       "      <td>5<\/td>\n",
       "      <td>0<\/td>\n",
       "      <td>0<\/td>\n",
       "      <td>0<\/td>\n",
       "      <td>0<\/td>\n",
       "      <td>NaN<\/td>\n",
       "      <td>NaN<\/td>\n",
       "      <td>NaN<\/td>\n",
       "      <td>NaN<\/td>\n",
       "      <td>...<\/td>\n",
       "      <td>NaN<\/td>\n",
       "      <td>NaN<\/td>\n",
       "      <td>NaN<\/td>\n",
       "      <td>NaN<\/td>\n",
       "      <td>NaN<\/td>\n",
       "      <td>NaN<\/td>\n",
       "      <td>NaN<\/td>\n",
       "      <td>NaN<\/td>\n",
       "      <td>NaN<\/td>\n",
       "      <td>NaN<\/td>\n",
       "    <\/tr>\n",
       "    <tr>\n",
       "      <th>4<\/th>\n",
       "      <td>d9e41465789c2b5<\/td>\n",
       "      <td>15<\/td>\n",
       "      <td>0<\/td>\n",
       "      <td>0<\/td>\n",
       "      <td>0<\/td>\n",
       "      <td>0<\/td>\n",
       "      <td>NaN<\/td>\n",
       "      <td>NaN<\/td>\n",
       "      <td>NaN<\/td>\n",
       "      <td>NaN<\/td>\n",
       "      <td>...<\/td>\n",
       "      <td>0.0<\/td>\n",
       "      <td>0.0<\/td>\n",
       "      <td>0.0<\/td>\n",
       "      <td>0.0<\/td>\n",
       "      <td>0.0<\/td>\n",
       "      <td>0.0<\/td>\n",
       "      <td>0.0<\/td>\n",
       "      <td>0.0<\/td>\n",
       "      <td>NaN<\/td>\n",
       "      <td>NaN<\/td>\n",
       "    <\/tr>\n",
       "  <\/tbody>\n",
       "<\/table>\n",
       "<p>5 rows × 39 columns<\/p>\n",
       "<\/div>"
      ]
     },
     "metadata":{
      
     },
     "output_type":"display_data"
    }
   ],
   "metadata":{
    "datalore":{
     "node_id":"CYXJpwFGL4O8IU5OMXEpCs",
     "type":"CODE",
     "hide_input_from_viewers":true,
     "hide_output_from_viewers":true
    }
   }
  },
  {
   "cell_type":"markdown",
   "source":[
    "Note :\n",
    "\n",
    "That left us with 39 variables out of 101.\n",
    "\n",
    "Next, I will check the variances to see if there is any variable with a single value.\n"
   ],
   "attachments":{
    
   },
   "metadata":{
    "datalore":{
     "node_id":"TznqLUJ6pxAvObYZpu1yCO",
     "type":"MD",
     "hide_input_from_viewers":true,
     "hide_output_from_viewers":true
    }
   }
  },
  {
   "cell_type":"markdown",
   "source":[
    "### Check Variances "
   ],
   "attachments":{
    
   },
   "metadata":{
    "datalore":{
     "node_id":"Z65IB4202Z8hUVThY7WBQK",
     "type":"MD",
     "hide_input_from_viewers":true,
     "hide_output_from_viewers":true
    }
   }
  },
  {
   "cell_type":"code",
   "source":[
    "features = [col for col in df.columns if col not in [\"Patient ID\",\n",
    "                                                     \"Patient addmited to regular war(1=yes, 0=no)\",\n",
    "                                                     \"Patient addmited to semi-intensive unit (1=yes ,0=no)\",\n",
    "                                                     \"Patient addmited to intensive care unit (1=yes, 0=no\",\n",
    "                                                     \"SARS-Cov-2 exam result\"]]\n",
    "df[features].var()"
   ],
   "execution_count":14,
   "outputs":[
    {
     "data":{
      "text\/html":[
       "<pre>Patient age quantile                                     33.384166\n",
       "Patient addmited to regular ward (1=yes, 0=no)            0.013804\n",
       "Patient addmited to semi-intensive unit (1=yes, 0=no)     0.008782\n",
       "Patient addmited to intensive care unit (1=yes, 0=no)     0.007213\n",
       "Hematocrit                                                1.001661\n",
       "Hemoglobin                                                1.001661\n",
       "Platelets                                                 1.001664\n",
       "Mean platelet volume                                      1.001672\n",
       "Red blood Cells                                           1.001664\n",
       "Lymphocytes                                               1.001664\n",
       "Mean corpuscular hemoglobin concentration (MCHC)          1.001664\n",
       "Leukocytes                                                1.001664\n",
       "Basophils                                                 1.001664\n",
       "Mean corpuscular hemoglobin (MCH)                         1.001664\n",
       "Eosinophils                                               1.001664\n",
       "Mean corpuscular volume (MCV)                             1.001664\n",
       "Monocytes                                                 1.001667\n",
       "Red blood cell distribution width (RDW)                   1.001664\n",
       "Respiratory Syncytial Virus                               0.036957\n",
       "Influenza A                                               0.013127\n",
       "Influenza B                                               0.053674\n",
       "Parainfluenza 1                                           0.002216\n",
       "CoronavirusNL63                                           0.032200\n",
       "Rhinovirus\/Enterovirus                                    0.201892\n",
       "Coronavirus HKU1                                          0.014585\n",
       "Parainfluenza 3                                           0.007347\n",
       "Chlamydophila pneumoniae                                  0.006617\n",
       "Adenovirus                                                0.009530\n",
       "Parainfluenza 4                                           0.013866\n",
       "Coronavirus229E                                           0.006617\n",
       "CoronavirusOC43                                           0.005887\n",
       "Inf A H1N1 2009                                           0.067281\n",
       "Bordetella pertussis                                      0.001478\n",
       "Metapneumovirus                                           0.010255\n",
       "Parainfluenza 2                                           0.000000\n",
       "Influenza B, rapid test                                   0.056254\n",
       "Influenza A, rapid test                                   0.059466\n",
       "dtype: float64<\/pre>"
      ]
     },
     "metadata":{
      
     },
     "output_type":"display_data"
    }
   ],
   "metadata":{
    "datalore":{
     "node_id":"DEq9pgds3aWZfvRLRkDeMx",
     "type":"CODE",
     "hide_input_from_viewers":true,
     "hide_output_from_viewers":true
    }
   }
  },
  {
   "cell_type":"markdown",
   "source":[
    "Note: \n",
    "\n",
    "We can see that variable \"Parainfluenza 2\" has 0 variance, meaning it has only one value. Will drop that column."
   ],
   "attachments":{
    
   },
   "metadata":{
    "datalore":{
     "node_id":"6OihJ6Gq3DA471jFM4ETqK",
     "type":"MD",
     "hide_input_from_viewers":true,
     "hide_output_from_viewers":true
    }
   }
  },
  {
   "cell_type":"code",
   "source":[
    "features"
   ],
   "execution_count":15,
   "outputs":[
    {
     "data":{
      "text\/plain":[
       "['Patient age quantile',\n",
       " 'Patient addmited to regular ward (1=yes, 0=no)',\n",
       " 'Patient addmited to semi-intensive unit (1=yes, 0=no)',\n",
       " 'Patient addmited to intensive care unit (1=yes, 0=no)',\n",
       " 'Hematocrit',\n",
       " 'Hemoglobin',\n",
       " 'Platelets',\n",
       " 'Mean platelet volume ',\n",
       " 'Red blood Cells',\n",
       " 'Lymphocytes',\n",
       " 'Mean corpuscular hemoglobin concentration\\xa0(MCHC)',\n",
       " 'Leukocytes',\n",
       " 'Basophils',\n",
       " 'Mean corpuscular hemoglobin (MCH)',\n",
       " 'Eosinophils',\n",
       " 'Mean corpuscular volume (MCV)',\n",
       " 'Monocytes',\n",
       " 'Red blood cell distribution width (RDW)',\n",
       " 'Respiratory Syncytial Virus',\n",
       " 'Influenza A',\n",
       " 'Influenza B',\n",
       " 'Parainfluenza 1',\n",
       " 'CoronavirusNL63',\n",
       " 'Rhinovirus\/Enterovirus',\n",
       " 'Coronavirus HKU1',\n",
       " 'Parainfluenza 3',\n",
       " 'Chlamydophila pneumoniae',\n",
       " 'Adenovirus',\n",
       " 'Parainfluenza 4',\n",
       " 'Coronavirus229E',\n",
       " 'CoronavirusOC43',\n",
       " 'Inf A H1N1 2009',\n",
       " 'Bordetella pertussis',\n",
       " 'Metapneumovirus',\n",
       " 'Parainfluenza 2',\n",
       " 'Influenza B, rapid test',\n",
       " 'Influenza A, rapid test']"
      ]
     },
     "metadata":{
      
     },
     "output_type":"display_data"
    }
   ],
   "metadata":{
    "datalore":{
     "node_id":"aKmmnWUOqZCHZGpqcWTFOQ",
     "type":"CODE",
     "hide_input_from_viewers":true,
     "hide_output_from_viewers":true
    }
   }
  },
  {
   "cell_type":"code",
   "source":[
    "len(features)"
   ],
   "execution_count":16,
   "outputs":[
    {
     "data":{
      "text\/plain":[
       "37"
      ]
     },
     "metadata":{
      
     },
     "output_type":"display_data"
    }
   ],
   "metadata":{
    "datalore":{
     "node_id":"Upu3cXwQoghifek9CI90KM",
     "type":"CODE",
     "hide_input_from_viewers":true,
     "hide_output_from_viewers":true
    }
   }
  },
  {
   "cell_type":"code",
   "source":[
    "df.drop('Parainfluenza 2',axis=1 ,inplace=True)\n",
    "features.remove(\"Parainfluenza 2\")\n",
    "len(features)"
   ],
   "execution_count":17,
   "outputs":[
    {
     "data":{
      "text\/plain":[
       "36"
      ]
     },
     "metadata":{
      
     },
     "output_type":"display_data"
    }
   ],
   "metadata":{
    "datalore":{
     "node_id":"ooY8KgCQQZE6ld0vT3IiS6",
     "type":"CODE",
     "hide_input_from_viewers":true,
     "hide_output_from_viewers":true
    }
   }
  },
  {
   "cell_type":"markdown",
   "source":[
    "### Create 'has_disesase' variable:\n",
    "\n",
    "I've realized that the last 19 columns of the dataset are all related to the presence of antigens - all those variables are binary. When we analyze them one by one, the amount of nulls is very high. But, if we take the sum rowise, the null percentage decreases. This variable indicates, for each patient, if at least one of those variables is positive.\n",
    "\n",
    "Here I am making an assumption to fill the remaining nulls: if all those columns are null, I'll assume that the patient doesn't have any of those diseases (has_disease = 0). There might be cases where this is false and the person simply wasn't tested, but it may be a good approximation."
   ],
   "attachments":{
    
   },
   "metadata":{
    "datalore":{
     "node_id":"1vE25iMkaesUSS6WzARzNM",
     "type":"MD",
     "hide_input_from_viewers":true,
     "hide_output_from_viewers":true
    }
   }
  },
  {
   "cell_type":"code",
   "source":[
    "df['has_disease'] = df[df.columns[20:]].sum(axis=1)\n",
    "df.loc[df[\"has_disease\"] > 1,'has_disease'] =1\n",
    "df['has_disease'].value_counts(normalize=True)"
   ],
   "execution_count":18,
   "outputs":[
    {
     "data":{
      "text\/html":[
       "<pre>0.0    0.865344\n",
       "1.0    0.134656\n",
       "Name: has_disease, dtype: float64<\/pre>"
      ]
     },
     "metadata":{
      
     },
     "output_type":"display_data"
    }
   ],
   "metadata":{
    "datalore":{
     "node_id":"gSNWXh7Q5q1fcY1N3wwzUo",
     "type":"CODE",
     "hide_input_from_viewers":true,
     "hide_output_from_viewers":true
    }
   }
  },
  {
   "cell_type":"markdown",
   "source":[
    "Note : \n",
    "\n",
    "13% percent of the patients have tested positive for at least one of the antigens. Now let's see how the target behaves for those people:"
   ],
   "attachments":{
    
   },
   "metadata":{
    "datalore":{
     "node_id":"yYit3zCCrmCqhKhGiYHYHx",
     "type":"MD",
     "hide_input_from_viewers":true,
     "hide_output_from_viewers":true
    }
   }
  },
  {
   "cell_type":"code",
   "source":[
    "df[df[\"has_disease\"] == 1]['SARS-Cov-2 exam result'].value_counts(normalize=True)"
   ],
   "execution_count":19,
   "outputs":[
    {
     "data":{
      "text\/html":[
       "<pre>0    0.981579\n",
       "1    0.018421\n",
       "Name: SARS-Cov-2 exam result, dtype: float64<\/pre>"
      ]
     },
     "metadata":{
      
     },
     "output_type":"display_data"
    }
   ],
   "metadata":{
    "datalore":{
     "node_id":"QZnJAc3eCxcpArgy7yR0vw",
     "type":"CODE",
     "hide_input_from_viewers":true,
     "hide_output_from_viewers":true
    }
   }
  },
  {
   "cell_type":"markdown",
   "source":[
    "Note:\n",
    "\n",
    "13% percent of the patients have tested positive for at least one of the antigens. Now let's see how the target behaves for those people:"
   ],
   "attachments":{
    
   },
   "metadata":{
    "datalore":{
     "node_id":"z7u35lyAW8veiGtnz9dub1",
     "type":"MD",
     "hide_input_from_viewers":true,
     "hide_output_from_viewers":true
    }
   }
  },
  {
   "cell_type":"markdown",
   "source":[
    "### Input \"disease\" variable with 0 :\n",
    "\n",
    "Here, I am making a pretty big assumption: in cases where it was not informed if the patient had the virus\/disease, I will assume that he didn't have it."
   ],
   "attachments":{
    
   },
   "metadata":{
    "datalore":{
     "node_id":"zqcDgaduJcq5RMJPJvbjIL",
     "type":"MD",
     "hide_input_from_viewers":true,
     "hide_output_from_viewers":true
    }
   }
  },
  {
   "cell_type":"code",
   "source":[
    "dfClean = df.copy()\n",
    "df[df.columns[20:]] = df[df.columns[20:]].fillna(0)"
   ],
   "execution_count":20,
   "outputs":[
    
   ],
   "metadata":{
    "datalore":{
     "node_id":"sgdCoZhmS32pHxWnZA6ljl",
     "type":"CODE",
     "hide_input_from_viewers":true,
     "hide_output_from_viewers":true
    }
   }
  },
  {
   "cell_type":"markdown",
   "source":[
    "### Input -'blood variables' via regression (using Age)\n",
    "\n",
    "For the other variables, which I called 'blood variables' and are all continuous, I'll attempt to input missing values via Linear Regression, using Age as my independent variable. This is a big hypothesis and will only work if there is a clear relationship between variable and age, which I don't expect to happen. Still, I'll give it a try nonetheless.\n"
   ],
   "attachments":{
    
   },
   "metadata":{
    "datalore":{
     "node_id":"6XbDobCmCtiFLNBbEnAfbD",
     "type":"MD",
     "hide_input_from_viewers":true,
     "hide_output_from_viewers":true
    }
   }
  },
  {
   "cell_type":"code",
   "source":[
    "df[df.columns[20:]][:5]"
   ],
   "execution_count":21,
   "outputs":[
    {
     "data":{
      "text\/html":[
       "<div>\n",
       "<style scoped>\n",
       "    .dataframe tbody tr th:only-of-type {\n",
       "        vertical-align: middle;\n",
       "    }\n",
       "\n",
       "    .dataframe tbody tr th {\n",
       "        vertical-align: top;\n",
       "    }\n",
       "\n",
       "    .dataframe thead th {\n",
       "        text-align: right;\n",
       "    }\n",
       "<\/style>\n",
       "<table border=\"1\" class=\"dataframe\">\n",
       "  <thead>\n",
       "    <tr style=\"text-align: right;\">\n",
       "      <th><\/th>\n",
       "      <th>Respiratory Syncytial Virus<\/th>\n",
       "      <th>Influenza A<\/th>\n",
       "      <th>Influenza B<\/th>\n",
       "      <th>Parainfluenza 1<\/th>\n",
       "      <th>CoronavirusNL63<\/th>\n",
       "      <th>Rhinovirus\/Enterovirus<\/th>\n",
       "      <th>Coronavirus HKU1<\/th>\n",
       "      <th>Parainfluenza 3<\/th>\n",
       "      <th>Chlamydophila pneumoniae<\/th>\n",
       "      <th>Adenovirus<\/th>\n",
       "      <th>Parainfluenza 4<\/th>\n",
       "      <th>Coronavirus229E<\/th>\n",
       "      <th>CoronavirusOC43<\/th>\n",
       "      <th>Inf A H1N1 2009<\/th>\n",
       "      <th>Bordetella pertussis<\/th>\n",
       "      <th>Metapneumovirus<\/th>\n",
       "      <th>Influenza B, rapid test<\/th>\n",
       "      <th>Influenza A, rapid test<\/th>\n",
       "      <th>has_disease<\/th>\n",
       "    <\/tr>\n",
       "  <\/thead>\n",
       "  <tbody>\n",
       "    <tr>\n",
       "      <th>0<\/th>\n",
       "      <td>0.0<\/td>\n",
       "      <td>0.0<\/td>\n",
       "      <td>0.0<\/td>\n",
       "      <td>0.0<\/td>\n",
       "      <td>0.0<\/td>\n",
       "      <td>0.0<\/td>\n",
       "      <td>0.0<\/td>\n",
       "      <td>0.0<\/td>\n",
       "      <td>0.0<\/td>\n",
       "      <td>0.0<\/td>\n",
       "      <td>0.0<\/td>\n",
       "      <td>0.0<\/td>\n",
       "      <td>0.0<\/td>\n",
       "      <td>0.0<\/td>\n",
       "      <td>0.0<\/td>\n",
       "      <td>0.0<\/td>\n",
       "      <td>0.0<\/td>\n",
       "      <td>0.0<\/td>\n",
       "      <td>0.0<\/td>\n",
       "    <\/tr>\n",
       "    <tr>\n",
       "      <th>1<\/th>\n",
       "      <td>0.0<\/td>\n",
       "      <td>0.0<\/td>\n",
       "      <td>0.0<\/td>\n",
       "      <td>0.0<\/td>\n",
       "      <td>0.0<\/td>\n",
       "      <td>1.0<\/td>\n",
       "      <td>0.0<\/td>\n",
       "      <td>0.0<\/td>\n",
       "      <td>0.0<\/td>\n",
       "      <td>0.0<\/td>\n",
       "      <td>0.0<\/td>\n",
       "      <td>0.0<\/td>\n",
       "      <td>0.0<\/td>\n",
       "      <td>0.0<\/td>\n",
       "      <td>0.0<\/td>\n",
       "      <td>0.0<\/td>\n",
       "      <td>0.0<\/td>\n",
       "      <td>0.0<\/td>\n",
       "      <td>1.0<\/td>\n",
       "    <\/tr>\n",
       "    <tr>\n",
       "      <th>2<\/th>\n",
       "      <td>0.0<\/td>\n",
       "      <td>0.0<\/td>\n",
       "      <td>0.0<\/td>\n",
       "      <td>0.0<\/td>\n",
       "      <td>0.0<\/td>\n",
       "      <td>0.0<\/td>\n",
       "      <td>0.0<\/td>\n",
       "      <td>0.0<\/td>\n",
       "      <td>0.0<\/td>\n",
       "      <td>0.0<\/td>\n",
       "      <td>0.0<\/td>\n",
       "      <td>0.0<\/td>\n",
       "      <td>0.0<\/td>\n",
       "      <td>0.0<\/td>\n",
       "      <td>0.0<\/td>\n",
       "      <td>0.0<\/td>\n",
       "      <td>0.0<\/td>\n",
       "      <td>0.0<\/td>\n",
       "      <td>0.0<\/td>\n",
       "    <\/tr>\n",
       "    <tr>\n",
       "      <th>3<\/th>\n",
       "      <td>0.0<\/td>\n",
       "      <td>0.0<\/td>\n",
       "      <td>0.0<\/td>\n",
       "      <td>0.0<\/td>\n",
       "      <td>0.0<\/td>\n",
       "      <td>0.0<\/td>\n",
       "      <td>0.0<\/td>\n",
       "      <td>0.0<\/td>\n",
       "      <td>0.0<\/td>\n",
       "      <td>0.0<\/td>\n",
       "      <td>0.0<\/td>\n",
       "      <td>0.0<\/td>\n",
       "      <td>0.0<\/td>\n",
       "      <td>0.0<\/td>\n",
       "      <td>0.0<\/td>\n",
       "      <td>0.0<\/td>\n",
       "      <td>0.0<\/td>\n",
       "      <td>0.0<\/td>\n",
       "      <td>0.0<\/td>\n",
       "    <\/tr>\n",
       "    <tr>\n",
       "      <th>4<\/th>\n",
       "      <td>0.0<\/td>\n",
       "      <td>0.0<\/td>\n",
       "      <td>0.0<\/td>\n",
       "      <td>0.0<\/td>\n",
       "      <td>0.0<\/td>\n",
       "      <td>1.0<\/td>\n",
       "      <td>0.0<\/td>\n",
       "      <td>0.0<\/td>\n",
       "      <td>0.0<\/td>\n",
       "      <td>0.0<\/td>\n",
       "      <td>0.0<\/td>\n",
       "      <td>0.0<\/td>\n",
       "      <td>0.0<\/td>\n",
       "      <td>0.0<\/td>\n",
       "      <td>0.0<\/td>\n",
       "      <td>0.0<\/td>\n",
       "      <td>0.0<\/td>\n",
       "      <td>0.0<\/td>\n",
       "      <td>1.0<\/td>\n",
       "    <\/tr>\n",
       "  <\/tbody>\n",
       "<\/table>\n",
       "<\/div>"
      ]
     },
     "metadata":{
      
     },
     "output_type":"display_data"
    }
   ],
   "metadata":{
    "datalore":{
     "node_id":"kQsBgiuWqg1FY7ZK9CEAaI",
     "type":"CODE",
     "hide_input_from_viewers":true,
     "hide_output_from_viewers":true
    }
   }
  },
  {
   "cell_type":"code",
   "source":[
    "for feature in df[df.columns[6:20]]:\n",
    "    df_age_var = df.dropna(axis=0, subset=['Patient age quantile', feature]).loc[:, ['Patient age quantile',\n",
    "                                                                                          feature]]\n",
    "    missing = df[feature].isnull()\n",
    "    age_missing = pd.DataFrame(df['Patient age quantile'][missing])\n",
    "\n",
    "    X = df_age_var[['Patient age quantile']]\n",
    "    y = df_age_var[feature]\n",
    "\n",
    "    X_train, X_test, y_train, y_test = train_test_split(X, y, test_size=0.2, random_state=42)\n",
    "\n",
    "    lm = LinearRegression().fit(X_train, y_train)\n",
    "\n",
    "    df.loc[df[feature].isna(), feature] = lm.predict(age_missing)\n",
    "    \n",
    "df.head()"
   ],
   "execution_count":22,
   "outputs":[
    {
     "data":{
      "text\/html":[
       "<div>\n",
       "<style scoped>\n",
       "    .dataframe tbody tr th:only-of-type {\n",
       "        vertical-align: middle;\n",
       "    }\n",
       "\n",
       "    .dataframe tbody tr th {\n",
       "        vertical-align: top;\n",
       "    }\n",
       "\n",
       "    .dataframe thead th {\n",
       "        text-align: right;\n",
       "    }\n",
       "<\/style>\n",
       "<table border=\"1\" class=\"dataframe\">\n",
       "  <thead>\n",
       "    <tr style=\"text-align: right;\">\n",
       "      <th><\/th>\n",
       "      <th>Patient ID<\/th>\n",
       "      <th>Patient age quantile<\/th>\n",
       "      <th>SARS-Cov-2 exam result<\/th>\n",
       "      <th>Patient addmited to regular ward (1=yes, 0=no)<\/th>\n",
       "      <th>Patient addmited to semi-intensive unit (1=yes, 0=no)<\/th>\n",
       "      <th>Patient addmited to intensive care unit (1=yes, 0=no)<\/th>\n",
       "      <th>Hematocrit<\/th>\n",
       "      <th>Hemoglobin<\/th>\n",
       "      <th>Platelets<\/th>\n",
       "      <th>Mean platelet volume<\/th>\n",
       "      <th>...<\/th>\n",
       "      <th>Adenovirus<\/th>\n",
       "      <th>Parainfluenza 4<\/th>\n",
       "      <th>Coronavirus229E<\/th>\n",
       "      <th>CoronavirusOC43<\/th>\n",
       "      <th>Inf A H1N1 2009<\/th>\n",
       "      <th>Bordetella pertussis<\/th>\n",
       "      <th>Metapneumovirus<\/th>\n",
       "      <th>Influenza B, rapid test<\/th>\n",
       "      <th>Influenza A, rapid test<\/th>\n",
       "      <th>has_disease<\/th>\n",
       "    <\/tr>\n",
       "  <\/thead>\n",
       "  <tbody>\n",
       "    <tr>\n",
       "      <th>0<\/th>\n",
       "      <td>44477f75e8169d2<\/td>\n",
       "      <td>13<\/td>\n",
       "      <td>0<\/td>\n",
       "      <td>0<\/td>\n",
       "      <td>0<\/td>\n",
       "      <td>0<\/td>\n",
       "      <td>0.034267<\/td>\n",
       "      <td>0.022490<\/td>\n",
       "      <td>-0.070137<\/td>\n",
       "      <td>0.061030<\/td>\n",
       "      <td>...<\/td>\n",
       "      <td>0.0<\/td>\n",
       "      <td>0.0<\/td>\n",
       "      <td>0.0<\/td>\n",
       "      <td>0.0<\/td>\n",
       "      <td>0.0<\/td>\n",
       "      <td>0.0<\/td>\n",
       "      <td>0.0<\/td>\n",
       "      <td>0.0<\/td>\n",
       "      <td>0.0<\/td>\n",
       "      <td>0.0<\/td>\n",
       "    <\/tr>\n",
       "    <tr>\n",
       "      <th>1<\/th>\n",
       "      <td>126e9dd13932f68<\/td>\n",
       "      <td>17<\/td>\n",
       "      <td>0<\/td>\n",
       "      <td>0<\/td>\n",
       "      <td>0<\/td>\n",
       "      <td>0<\/td>\n",
       "      <td>0.236515<\/td>\n",
       "      <td>-0.022340<\/td>\n",
       "      <td>-0.517413<\/td>\n",
       "      <td>0.010677<\/td>\n",
       "      <td>...<\/td>\n",
       "      <td>0.0<\/td>\n",
       "      <td>0.0<\/td>\n",
       "      <td>0.0<\/td>\n",
       "      <td>0.0<\/td>\n",
       "      <td>0.0<\/td>\n",
       "      <td>0.0<\/td>\n",
       "      <td>0.0<\/td>\n",
       "      <td>0.0<\/td>\n",
       "      <td>0.0<\/td>\n",
       "      <td>1.0<\/td>\n",
       "    <\/tr>\n",
       "    <tr>\n",
       "      <th>2<\/th>\n",
       "      <td>a46b4402a0e5696<\/td>\n",
       "      <td>8<\/td>\n",
       "      <td>0<\/td>\n",
       "      <td>0<\/td>\n",
       "      <td>0<\/td>\n",
       "      <td>0<\/td>\n",
       "      <td>-0.041190<\/td>\n",
       "      <td>-0.019496<\/td>\n",
       "      <td>0.052728<\/td>\n",
       "      <td>-0.040502<\/td>\n",
       "      <td>...<\/td>\n",
       "      <td>0.0<\/td>\n",
       "      <td>0.0<\/td>\n",
       "      <td>0.0<\/td>\n",
       "      <td>0.0<\/td>\n",
       "      <td>0.0<\/td>\n",
       "      <td>0.0<\/td>\n",
       "      <td>0.0<\/td>\n",
       "      <td>0.0<\/td>\n",
       "      <td>0.0<\/td>\n",
       "      <td>0.0<\/td>\n",
       "    <\/tr>\n",
       "    <tr>\n",
       "      <th>3<\/th>\n",
       "      <td>f7d619a94f97c45<\/td>\n",
       "      <td>5<\/td>\n",
       "      <td>0<\/td>\n",
       "      <td>0<\/td>\n",
       "      <td>0<\/td>\n",
       "      <td>0<\/td>\n",
       "      <td>-0.086463<\/td>\n",
       "      <td>-0.044687<\/td>\n",
       "      <td>0.126447<\/td>\n",
       "      <td>-0.101422<\/td>\n",
       "      <td>...<\/td>\n",
       "      <td>0.0<\/td>\n",
       "      <td>0.0<\/td>\n",
       "      <td>0.0<\/td>\n",
       "      <td>0.0<\/td>\n",
       "      <td>0.0<\/td>\n",
       "      <td>0.0<\/td>\n",
       "      <td>0.0<\/td>\n",
       "      <td>0.0<\/td>\n",
       "      <td>0.0<\/td>\n",
       "      <td>0.0<\/td>\n",
       "    <\/tr>\n",
       "    <tr>\n",
       "      <th>4<\/th>\n",
       "      <td>d9e41465789c2b5<\/td>\n",
       "      <td>15<\/td>\n",
       "      <td>0<\/td>\n",
       "      <td>0<\/td>\n",
       "      <td>0<\/td>\n",
       "      <td>0<\/td>\n",
       "      <td>0.064449<\/td>\n",
       "      <td>0.039284<\/td>\n",
       "      <td>-0.119284<\/td>\n",
       "      <td>0.101643<\/td>\n",
       "      <td>...<\/td>\n",
       "      <td>0.0<\/td>\n",
       "      <td>0.0<\/td>\n",
       "      <td>0.0<\/td>\n",
       "      <td>0.0<\/td>\n",
       "      <td>0.0<\/td>\n",
       "      <td>0.0<\/td>\n",
       "      <td>0.0<\/td>\n",
       "      <td>0.0<\/td>\n",
       "      <td>0.0<\/td>\n",
       "      <td>1.0<\/td>\n",
       "    <\/tr>\n",
       "  <\/tbody>\n",
       "<\/table>\n",
       "<p>5 rows × 39 columns<\/p>\n",
       "<\/div>"
      ]
     },
     "metadata":{
      
     },
     "output_type":"display_data"
    }
   ],
   "metadata":{
    "datalore":{
     "node_id":"KcYkJJwCPyPqTrmSLlGfGb",
     "type":"CODE",
     "hide_input_from_viewers":true,
     "hide_output_from_viewers":true
    }
   }
  },
  {
   "cell_type":"markdown",
   "source":[
    "for feature in df[df.columns[6:20]]:\n",
    "    df_age_var = df.dropna(axis=0 , subset=['Patient age quantile',feature]).loc[:,['Patient age quantile',feature]]\n",
    "    missing = df[feature].isnull()\n",
    "\n",
    "    age_missing = pd.DataFrame(df['Patient age quantile'][missing])\n",
    "    X = df_age_var[['Patient age quantile']]\n",
    "    y = df_age_var[feature]\n",
    "\n",
    "    X_train,X_test,y_train,y_test = train_test_split(X,y,test_size=0.2,\n",
    "                                                     random_state=42)\n",
    "    lm = LinearRegression().fit(X_train,y_train)\n",
    "    df.loc[df[feature].isna(),feature] = lm.predict(age_missing)\n",
    "    \n",
    "df.head()"
   ],
   "attachments":{
    
   },
   "metadata":{
    "datalore":{
     "node_id":"LsM1P2UyagBdjzeI1K9P2g",
     "type":"MD",
     "hide_input_from_viewers":true,
     "hide_output_from_viewers":true
    }
   }
  },
  {
   "cell_type":"code",
   "source":[
    "X_train[:5]"
   ],
   "execution_count":23,
   "outputs":[
    {
     "data":{
      "text\/html":[
       "<div>\n",
       "<style scoped>\n",
       "    .dataframe tbody tr th:only-of-type {\n",
       "        vertical-align: middle;\n",
       "    }\n",
       "\n",
       "    .dataframe tbody tr th {\n",
       "        vertical-align: top;\n",
       "    }\n",
       "\n",
       "    .dataframe thead th {\n",
       "        text-align: right;\n",
       "    }\n",
       "<\/style>\n",
       "<table border=\"1\" class=\"dataframe\">\n",
       "  <thead>\n",
       "    <tr style=\"text-align: right;\">\n",
       "      <th><\/th>\n",
       "      <th>Patient age quantile<\/th>\n",
       "    <\/tr>\n",
       "  <\/thead>\n",
       "  <tbody>\n",
       "    <tr>\n",
       "      <th>34<\/th>\n",
       "      <td>17<\/td>\n",
       "    <\/tr>\n",
       "    <tr>\n",
       "      <th>4061<\/th>\n",
       "      <td>13<\/td>\n",
       "    <\/tr>\n",
       "    <tr>\n",
       "      <th>5017<\/th>\n",
       "      <td>18<\/td>\n",
       "    <\/tr>\n",
       "    <tr>\n",
       "      <th>1319<\/th>\n",
       "      <td>16<\/td>\n",
       "    <\/tr>\n",
       "    <tr>\n",
       "      <th>865<\/th>\n",
       "      <td>1<\/td>\n",
       "    <\/tr>\n",
       "  <\/tbody>\n",
       "<\/table>\n",
       "<\/div>"
      ]
     },
     "metadata":{
      
     },
     "output_type":"display_data"
    }
   ],
   "metadata":{
    "datalore":{
     "node_id":"aHOfoSZMuj2cM4aOy9D1HI",
     "type":"CODE",
     "hide_input_from_viewers":true,
     "hide_output_from_viewers":true
    }
   }
  },
  {
   "cell_type":"code",
   "source":[
    
   ],
   "execution_count":null,
   "outputs":[
    
   ],
   "metadata":{
    "datalore":{
     "node_id":"7m5j4zR8Yo2EyusNAcRt9W",
     "type":"CODE",
     "hide_input_from_viewers":true,
     "hide_output_from_viewers":true
    }
   }
  },
  {
   "cell_type":"code",
   "source":[
    "df.isna().sum().sum()"
   ],
   "execution_count":24,
   "outputs":[
    {
     "data":{
      "text\/plain":[
       "0"
      ]
     },
     "metadata":{
      
     },
     "output_type":"display_data"
    }
   ],
   "metadata":{
    "datalore":{
     "node_id":"yL8xRTeHxQbmJg4LI4xD6C",
     "type":"CODE",
     "hide_input_from_viewers":true,
     "hide_output_from_viewers":true
    }
   }
  },
  {
   "cell_type":"markdown",
   "source":[
    "Note: \n",
    "\n",
    "As one can see, after imputation, there are no nulls left on the dataset. It is ready for modeling.\n",
    "\n",
    "However, let's check how our regression is imputing the values. Let's take, for instance, Hematocrit:"
   ],
   "attachments":{
    
   },
   "metadata":{
    "datalore":{
     "node_id":"5tvDD3D5rySTP2wCQYgJtA",
     "type":"MD",
     "hide_input_from_viewers":true,
     "hide_output_from_viewers":true
    }
   }
  },
  {
   "cell_type":"code",
   "source":[
    "df_age_var = df.dropna(axis=0,subset=[\"Patient age quantile\",\"Hematocrit\"]).loc[:,['Patient age quantile',\"Hematocrit\"]]\n",
    "missing_hem = df['Hematocrit'].isnull()\n",
    "age_missing_hem = pd.DataFrame(df['Patient age quantile'][missing_hem])\n",
    "\n",
    "X = df_age_var[['Patient age quantile']]\n",
    "y = df_age_var['Hematocrit']\n",
    "\n",
    "X_train,X_test,y_train,y_test = train_test_split(X,y,test_size=0.2,random_state=42)\n",
    "\n",
    "lm = LinearRegression().fit(X_train,y_train)\n",
    "y_pred = lm.predict(X_test)\n",
    "\n",
    "plt.scatter(X_test,y_test)\n",
    "plt.plot(X_test,y_pred,color='red',lw=2)\n",
    "plt.xlabel(\"Patient age quantile \")\n",
    "plt.ylabel(\"Hematocrit\")\n",
    "plt.show()"
   ],
   "execution_count":25,
   "outputs":[
    {
     "data":{
      "image\/png":"[encoded data removed]"
     },
     "metadata":{
      "image\/png":{
       
      }
     },
     "output_type":"display_data"
    }
   ],
   "metadata":{
    "datalore":{
     "node_id":"t8QrelXZ5gsvWxP8EVmDWt",
     "type":"CODE",
     "hide_input_from_viewers":true,
     "hide_output_from_viewers":true
    }
   }
  },
  {
   "cell_type":"markdown",
   "source":[
    "Note:\n",
    "\n",
    "We observe that the variable has very high heteroskedasticity, i.e., high dispersion. Since y values vary greatly for the same value of x (age), we are basically just inputing by the mean - which, of course, won't represent real data."
   ],
   "attachments":{
    
   },
   "metadata":{
    "datalore":{
     "node_id":"9WqiAsRqDmC0KgwHtNS3KZ",
     "type":"MD",
     "hide_input_from_viewers":true,
     "hide_output_from_viewers":true
    }
   }
  },
  {
   "cell_type":"code",
   "source":[
    "df_age_var = df.dropna(axis=0,subset=['Patient age quantile','Leukocytes']).loc[:,[\"Patient age quantile\",\"Leukocytes\"]]\n",
    "\n",
    "missing_leu = df['Leukocytes'].isnull()\n",
    "age_missing_leu = pd.DataFrame(df['Patient age quantile'][missing_leu])\n",
    "\n",
    "\n",
    "X = df_age_var[['Patient age quantile']]\n",
    "y = df_age_var['Leukocytes']\n",
    "\n",
    "X_train,X_test,y_train,y_test = train_test_split(X,y,test_size=0.2 ,random_state=42)\n",
    "\n",
    "lm = LinearRegression().fit(X_train,y_train)\n",
    "y_pred = lm.predict(X_test)\n",
    "\n",
    "plt.scatter(X_test,y_test)\n",
    "plt.plot(X_test,y_pred,color='red',lw=2)\n",
    "plt.xlabel(\"Patient age quantile\")\n",
    "plt.ylabel(\"Leukocytes\")\n",
    "plt.show()"
   ],
   "execution_count":26,
   "outputs":[
    {
     "data":{
      "image\/png":"[encoded data removed]"
     },
     "metadata":{
      "image\/png":{
       
      }
     },
     "output_type":"display_data"
    }
   ],
   "metadata":{
    "datalore":{
     "node_id":"8VPEOI9Xcczm5VLgwKGHc6",
     "type":"CODE",
     "hide_input_from_viewers":true,
     "hide_output_from_viewers":true
    }
   }
  },
  {
   "cell_type":"markdown",
   "source":[
    "Note :\n",
    "\n",
    "The same for Leukocytes. Even though the line slightly captures the trend, it is still not even close to ideal.\n",
    "\n",
    "Let's try to build a simple Random Forest model and see the tragedy that awaits us."
   ],
   "attachments":{
    
   },
   "metadata":{
    "datalore":{
     "node_id":"HCyIv7kxelIGlv2YjIaSOA",
     "type":"MD",
     "hide_input_from_viewers":true,
     "hide_output_from_viewers":true
    }
   }
  },
  {
   "cell_type":"markdown",
   "source":[
    "### Simple Random Forest Model"
   ],
   "attachments":{
    
   },
   "metadata":{
    "datalore":{
     "node_id":"y1pX4Bg39FiRbpc8qGmPAU",
     "type":"MD",
     "hide_input_from_viewers":true,
     "hide_output_from_viewers":true
    }
   }
  },
  {
   "cell_type":"code",
   "source":[
    "def fitRandomForest(model) :\n",
    "    model.fit(X_train,y_train)\n",
    "    y_pred = model.predict(X_test)\n",
    "    #ConfusionMatrix and Accuracy\n",
    "    print(\"Confusion Matrix: \\n\",confusion_matrix(y_test,y_pred))\n",
    "    print(\"Classification Report \\n\",classification_report(y_test,y_pred))\n",
    "    print(\"Accuracy Score:\",accuracy_score(y_test,y_pred))\n",
    "    print(\"Recall Score:\",recall_score(y_test,y_pred))\n",
    "    #AUC and KS\n",
    "    print(\"AUC:\",roc_auc_score(y_test,y_pred))\n",
    "    print(\"KS:\",ks_2samp(y_pred[y_test==0],y_pred[y_test == 1]).statistic)\n",
    "\n",
    "X = df[features].values\n",
    "y = df['SARS-Cov-2 exam result'].values\n",
    "X_train,X_test,y_train,y_test = train_test_split(X,y,test_size=0.2,random_state=42)\n",
    "print(\"Split between test and train !\")\n",
    "\n",
    "#Apply RandomForest:\n",
    "rf = RandomForestClassifier(n_estimators=100,max_features=\"sqrt\",random_state=42)\n",
    "fitRandomForest(rf)\n"
   ],
   "execution_count":27,
   "outputs":[
    {
     "name":"stdout",
     "text":[
      "Split between test and train !\n",
      "Confusion Matrix: \n",
      " [[1019    2]\n",
      " [ 101    7]]\n",
      "Classification Report \n",
      "               precision    recall  f1-score   support\n",
      "\n",
      "           0       0.91      1.00      0.95      1021\n",
      "           1       0.78      0.06      0.12       108\n",
      "\n",
      "    accuracy                           0.91      1129\n",
      "   macro avg       0.84      0.53      0.54      1129\n",
      "weighted avg       0.90      0.91      0.87      1129\n",
      "\n",
      "Accuracy Score: 0.9087688219663419\n",
      "Recall Score: 0.06481481481481481\n",
      "AUC: 0.5314279754779265\n",
      "KS: 0.06285595095585302\n"
     ],
     "output_type":"stream"
    }
   ],
   "metadata":{
    "datalore":{
     "node_id":"Aqwx8228nPXFLT5v7XrpAl",
     "type":"CODE",
     "hide_input_from_viewers":true,
     "hide_output_from_viewers":true
    }
   }
  },
  {
   "cell_type":"markdown",
   "source":[
    "Note :\n",
    "\n",
    "Expected. The model basically predicts all the time that the individual is not infected (ridiculous Recall). We won't be able to use the whole dataset, much less inpute the missing values this way."
   ],
   "attachments":{
    
   },
   "metadata":{
    "datalore":{
     "node_id":"fHTSabxvLUjq0B1KwYaZmG",
     "type":"MD",
     "hide_input_from_viewers":true,
     "hide_output_from_viewers":true
    }
   }
  },
  {
   "cell_type":"markdown",
   "source":[
    "### Improve the dataset"
   ],
   "attachments":{
    
   },
   "metadata":{
    "datalore":{
     "node_id":"0GLsX3zkMFZuLicJ03NOQ4",
     "type":"MD",
     "hide_input_from_viewers":true,
     "hide_output_from_viewers":true
    }
   }
  },
  {
   "cell_type":"code",
   "source":[
    "print(\"Total Columns:\",dfClean.shape[1])\n",
    "dfClean.isna().sum(axis=1).value_counts()"
   ],
   "execution_count":28,
   "outputs":[
    {
     "name":"stdout",
     "text":[
      "Total Columns: 39\n"
     ],
     "output_type":"stream"
    },
    {
     "data":{
      "text\/html":[
       "<pre>32    3596\n",
       "16     917\n",
       "30     458\n",
       "2      263\n",
       "14     166\n",
       "18     139\n",
       "0       99\n",
       "3        4\n",
       "29       1\n",
       "27       1\n",
       "dtype: int64<\/pre>"
      ]
     },
     "metadata":{
      
     },
     "output_type":"display_data"
    }
   ],
   "metadata":{
    "datalore":{
     "node_id":"dwsWodRg3OX6lzT2XgrBL8",
     "type":"CODE",
     "hide_input_from_viewers":true,
     "hide_output_from_viewers":true
    }
   }
  },
  {
   "cell_type":"markdown",
   "source":[
    "Note:\n",
    "\n",
    "Out of 5644 rows, 3596 have 32 columns with missing values (out of 39). This gives us a place to start.\n",
    "\n",
    "The first reduction will be to trim the dataset to one whose rows don't have more than 26 null columns."
   ],
   "attachments":{
    
   },
   "metadata":{
    "datalore":{
     "node_id":"5rlt75zDUaqm2xoTx3R2L5",
     "type":"MD",
     "hide_input_from_viewers":true,
     "hide_output_from_viewers":true
    }
   }
  },
  {
   "cell_type":"code",
   "source":[
    "df_red = dfClean[dfClean.isna().sum(axis=1)<26]\n",
    "df_red.head()"
   ],
   "execution_count":29,
   "outputs":[
    {
     "data":{
      "text\/html":[
       "<div>\n",
       "<style scoped>\n",
       "    .dataframe tbody tr th:only-of-type {\n",
       "        vertical-align: middle;\n",
       "    }\n",
       "\n",
       "    .dataframe tbody tr th {\n",
       "        vertical-align: top;\n",
       "    }\n",
       "\n",
       "    .dataframe thead th {\n",
       "        text-align: right;\n",
       "    }\n",
       "<\/style>\n",
       "<table border=\"1\" class=\"dataframe\">\n",
       "  <thead>\n",
       "    <tr style=\"text-align: right;\">\n",
       "      <th><\/th>\n",
       "      <th>Patient ID<\/th>\n",
       "      <th>Patient age quantile<\/th>\n",
       "      <th>SARS-Cov-2 exam result<\/th>\n",
       "      <th>Patient addmited to regular ward (1=yes, 0=no)<\/th>\n",
       "      <th>Patient addmited to semi-intensive unit (1=yes, 0=no)<\/th>\n",
       "      <th>Patient addmited to intensive care unit (1=yes, 0=no)<\/th>\n",
       "      <th>Hematocrit<\/th>\n",
       "      <th>Hemoglobin<\/th>\n",
       "      <th>Platelets<\/th>\n",
       "      <th>Mean platelet volume<\/th>\n",
       "      <th>...<\/th>\n",
       "      <th>Adenovirus<\/th>\n",
       "      <th>Parainfluenza 4<\/th>\n",
       "      <th>Coronavirus229E<\/th>\n",
       "      <th>CoronavirusOC43<\/th>\n",
       "      <th>Inf A H1N1 2009<\/th>\n",
       "      <th>Bordetella pertussis<\/th>\n",
       "      <th>Metapneumovirus<\/th>\n",
       "      <th>Influenza B, rapid test<\/th>\n",
       "      <th>Influenza A, rapid test<\/th>\n",
       "      <th>has_disease<\/th>\n",
       "    <\/tr>\n",
       "  <\/thead>\n",
       "  <tbody>\n",
       "    <tr>\n",
       "      <th>1<\/th>\n",
       "      <td>126e9dd13932f68<\/td>\n",
       "      <td>17<\/td>\n",
       "      <td>0<\/td>\n",
       "      <td>0<\/td>\n",
       "      <td>0<\/td>\n",
       "      <td>0<\/td>\n",
       "      <td>0.236515<\/td>\n",
       "      <td>-0.022340<\/td>\n",
       "      <td>-0.517413<\/td>\n",
       "      <td>0.010677<\/td>\n",
       "      <td>...<\/td>\n",
       "      <td>0.0<\/td>\n",
       "      <td>0.0<\/td>\n",
       "      <td>0.0<\/td>\n",
       "      <td>0.0<\/td>\n",
       "      <td>0.0<\/td>\n",
       "      <td>0.0<\/td>\n",
       "      <td>0.0<\/td>\n",
       "      <td>0.0<\/td>\n",
       "      <td>0.0<\/td>\n",
       "      <td>1.0<\/td>\n",
       "    <\/tr>\n",
       "    <tr>\n",
       "      <th>4<\/th>\n",
       "      <td>d9e41465789c2b5<\/td>\n",
       "      <td>15<\/td>\n",
       "      <td>0<\/td>\n",
       "      <td>0<\/td>\n",
       "      <td>0<\/td>\n",
       "      <td>0<\/td>\n",
       "      <td>NaN<\/td>\n",
       "      <td>NaN<\/td>\n",
       "      <td>NaN<\/td>\n",
       "      <td>NaN<\/td>\n",
       "      <td>...<\/td>\n",
       "      <td>0.0<\/td>\n",
       "      <td>0.0<\/td>\n",
       "      <td>0.0<\/td>\n",
       "      <td>0.0<\/td>\n",
       "      <td>0.0<\/td>\n",
       "      <td>0.0<\/td>\n",
       "      <td>0.0<\/td>\n",
       "      <td>NaN<\/td>\n",
       "      <td>NaN<\/td>\n",
       "      <td>1.0<\/td>\n",
       "    <\/tr>\n",
       "    <tr>\n",
       "      <th>8<\/th>\n",
       "      <td>8bb9d64f0215244<\/td>\n",
       "      <td>1<\/td>\n",
       "      <td>0<\/td>\n",
       "      <td>0<\/td>\n",
       "      <td>1<\/td>\n",
       "      <td>0<\/td>\n",
       "      <td>-1.571682<\/td>\n",
       "      <td>-0.774212<\/td>\n",
       "      <td>1.429667<\/td>\n",
       "      <td>-1.672222<\/td>\n",
       "      <td>...<\/td>\n",
       "      <td>0.0<\/td>\n",
       "      <td>0.0<\/td>\n",
       "      <td>0.0<\/td>\n",
       "      <td>0.0<\/td>\n",
       "      <td>0.0<\/td>\n",
       "      <td>0.0<\/td>\n",
       "      <td>0.0<\/td>\n",
       "      <td>NaN<\/td>\n",
       "      <td>NaN<\/td>\n",
       "      <td>0.0<\/td>\n",
       "    <\/tr>\n",
       "    <tr>\n",
       "      <th>9<\/th>\n",
       "      <td>5f1ed301375586c<\/td>\n",
       "      <td>17<\/td>\n",
       "      <td>0<\/td>\n",
       "      <td>0<\/td>\n",
       "      <td>0<\/td>\n",
       "      <td>0<\/td>\n",
       "      <td>NaN<\/td>\n",
       "      <td>NaN<\/td>\n",
       "      <td>NaN<\/td>\n",
       "      <td>NaN<\/td>\n",
       "      <td>...<\/td>\n",
       "      <td>0.0<\/td>\n",
       "      <td>0.0<\/td>\n",
       "      <td>0.0<\/td>\n",
       "      <td>0.0<\/td>\n",
       "      <td>0.0<\/td>\n",
       "      <td>0.0<\/td>\n",
       "      <td>0.0<\/td>\n",
       "      <td>NaN<\/td>\n",
       "      <td>NaN<\/td>\n",
       "      <td>0.0<\/td>\n",
       "    <\/tr>\n",
       "    <tr>\n",
       "      <th>13<\/th>\n",
       "      <td>0fbafd910aa8078<\/td>\n",
       "      <td>13<\/td>\n",
       "      <td>0<\/td>\n",
       "      <td>0<\/td>\n",
       "      <td>0<\/td>\n",
       "      <td>0<\/td>\n",
       "      <td>NaN<\/td>\n",
       "      <td>NaN<\/td>\n",
       "      <td>NaN<\/td>\n",
       "      <td>NaN<\/td>\n",
       "      <td>...<\/td>\n",
       "      <td>0.0<\/td>\n",
       "      <td>0.0<\/td>\n",
       "      <td>0.0<\/td>\n",
       "      <td>0.0<\/td>\n",
       "      <td>0.0<\/td>\n",
       "      <td>0.0<\/td>\n",
       "      <td>0.0<\/td>\n",
       "      <td>NaN<\/td>\n",
       "      <td>NaN<\/td>\n",
       "      <td>0.0<\/td>\n",
       "    <\/tr>\n",
       "  <\/tbody>\n",
       "<\/table>\n",
       "<p>5 rows × 39 columns<\/p>\n",
       "<\/div>"
      ]
     },
     "metadata":{
      
     },
     "output_type":"display_data"
    }
   ],
   "metadata":{
    "datalore":{
     "node_id":"vSFS8MC6hjeLorYTcP8Pfb",
     "type":"CODE",
     "hide_input_from_viewers":true,
     "hide_output_from_viewers":true
    }
   }
  },
  {
   "cell_type":"markdown",
   "source":[
    "Let's check null percentage by column once again."
   ],
   "attachments":{
    
   },
   "metadata":{
    "datalore":{
     "node_id":"48zHFQsCUmuPq8gxYcxn9H",
     "type":"MD",
     "hide_input_from_viewers":true,
     "hide_output_from_viewers":true
    }
   }
  },
  {
   "cell_type":"code",
   "source":[
    "dfNull_pct = df_red.isna().mean().round(4)*100\n",
    "dfNull_pct.sort_values(ascending=False)"
   ],
   "execution_count":30,
   "outputs":[
    {
     "data":{
      "text\/html":[
       "<pre>Influenza A, rapid test                                  77.20\n",
       "Influenza B, rapid test                                  77.20\n",
       "Mean platelet volume                                     62.28\n",
       "Monocytes                                                62.15\n",
       "Red blood cell distribution width (RDW)                  62.09\n",
       "Lymphocytes                                              62.09\n",
       "Mean corpuscular volume (MCV)                            62.09\n",
       "Mean corpuscular hemoglobin (MCH)                        62.09\n",
       "Basophils                                                62.09\n",
       "Leukocytes                                               62.09\n",
       "Mean corpuscular hemoglobin concentration (MCHC)         62.09\n",
       "Eosinophils                                              62.09\n",
       "Red blood Cells                                          62.09\n",
       "Hemoglobin                                               62.09\n",
       "Hematocrit                                               62.09\n",
       "Platelets                                                62.09\n",
       "CoronavirusNL63                                          14.86\n",
       "Parainfluenza 4                                          14.86\n",
       "Adenovirus                                               14.86\n",
       "Chlamydophila pneumoniae                                 14.86\n",
       "Parainfluenza 3                                          14.86\n",
       "Coronavirus HKU1                                         14.86\n",
       "Rhinovirus\/Enterovirus                                   14.86\n",
       "Influenza B                                              14.86\n",
       "Parainfluenza 1                                          14.86\n",
       "Influenza A                                              14.86\n",
       "Respiratory Syncytial Virus                              14.86\n",
       "Inf A H1N1 2009                                          14.86\n",
       "Metapneumovirus                                          14.86\n",
       "Bordetella pertussis                                     14.86\n",
       "CoronavirusOC43                                          14.86\n",
       "Coronavirus229E                                          14.86\n",
       "Patient ID                                                0.00\n",
       "Patient age quantile                                      0.00\n",
       "Patient addmited to intensive care unit (1=yes, 0=no)     0.00\n",
       "Patient addmited to semi-intensive unit (1=yes, 0=no)     0.00\n",
       "Patient addmited to regular ward (1=yes, 0=no)            0.00\n",
       "SARS-Cov-2 exam result                                    0.00\n",
       "has_disease                                               0.00\n",
       "dtype: float64<\/pre>"
      ]
     },
     "metadata":{
      
     },
     "output_type":"display_data"
    }
   ],
   "metadata":{
    "datalore":{
     "node_id":"bAM7RG7gwQofNJtgPGnSOI",
     "type":"CODE",
     "hide_input_from_viewers":true,
     "hide_output_from_viewers":true
    }
   }
  },
  {
   "cell_type":"markdown",
   "source":[
    "Note: \n",
    "\n",
    "We can see that blood variables have equal amount of nulls. For my modeling, I will be considering only the rows containing full data on blood variables. The effect of the other columns, hopefully, will be concentrated on the \"has_disease\" variable. This way, I can keep both \"types\" of variables in modeling"
   ],
   "attachments":{
    
   },
   "metadata":{
    "datalore":{
     "node_id":"4seJk1Yhnvkoxt0eniwuS6",
     "type":"MD",
     "hide_input_from_viewers":true,
     "hide_output_from_viewers":true
    }
   }
  },
  {
   "cell_type":"code",
   "source":[
    "df_red = df_red[df_red['Leukocytes'].notna()]\n",
    "dfNull_pct = df_red.isna().mean().round(4)*100\n",
    "dfNull_pct.sort_values(ascending=False)"
   ],
   "execution_count":31,
   "outputs":[
    {
     "data":{
      "text\/html":[
       "<pre>Influenza A, rapid test                                  67.44\n",
       "Influenza B, rapid test                                  67.44\n",
       "Parainfluenza 4                                          39.20\n",
       "Adenovirus                                               39.20\n",
       "Influenza B                                              39.20\n",
       "Parainfluenza 1                                          39.20\n",
       "CoronavirusNL63                                          39.20\n",
       "Rhinovirus\/Enterovirus                                   39.20\n",
       "Coronavirus HKU1                                         39.20\n",
       "Parainfluenza 3                                          39.20\n",
       "Chlamydophila pneumoniae                                 39.20\n",
       "Respiratory Syncytial Virus                              39.20\n",
       "Influenza A                                              39.20\n",
       "Coronavirus229E                                          39.20\n",
       "CoronavirusOC43                                          39.20\n",
       "Inf A H1N1 2009                                          39.20\n",
       "Bordetella pertussis                                     39.20\n",
       "Metapneumovirus                                          39.20\n",
       "Mean platelet volume                                      0.50\n",
       "Monocytes                                                 0.17\n",
       "Patient ID                                                0.00\n",
       "Red blood cell distribution width (RDW)                   0.00\n",
       "Patient age quantile                                      0.00\n",
       "Platelets                                                 0.00\n",
       "SARS-Cov-2 exam result                                    0.00\n",
       "Patient addmited to regular ward (1=yes, 0=no)            0.00\n",
       "Patient addmited to semi-intensive unit (1=yes, 0=no)     0.00\n",
       "Patient addmited to intensive care unit (1=yes, 0=no)     0.00\n",
       "Hematocrit                                                0.00\n",
       "Hemoglobin                                                0.00\n",
       "Red blood Cells                                           0.00\n",
       "Mean corpuscular volume (MCV)                             0.00\n",
       "Lymphocytes                                               0.00\n",
       "Mean corpuscular hemoglobin concentration (MCHC)          0.00\n",
       "Leukocytes                                                0.00\n",
       "Basophils                                                 0.00\n",
       "Mean corpuscular hemoglobin (MCH)                         0.00\n",
       "Eosinophils                                               0.00\n",
       "has_disease                                               0.00\n",
       "dtype: float64<\/pre>"
      ]
     },
     "metadata":{
      
     },
     "output_type":"display_data"
    }
   ],
   "metadata":{
    "datalore":{
     "node_id":"rq8LRw0ml8HXKTbxnJlP4z",
     "type":"CODE",
     "hide_input_from_viewers":true,
     "hide_output_from_viewers":true
    }
   }
  },
  {
   "cell_type":"markdown",
   "source":[
    "Note: \n",
    "\n",
    "There are still two blood variables with a minor percentage of nulls (0.5% and 0.17%). In this case, since it's just very few samples, I will inpute by the mean."
   ],
   "attachments":{
    
   },
   "metadata":{
    "datalore":{
     "node_id":"qQ5KlJtripz52JZi3D0cOh",
     "type":"MD",
     "hide_input_from_viewers":true,
     "hide_output_from_viewers":true
    }
   }
  },
  {
   "cell_type":"markdown",
   "source":[
    "### Remove variables"
   ],
   "attachments":{
    
   },
   "metadata":{
    "datalore":{
     "node_id":"Q29HxdMnUtnkuiMUzQchJH",
     "type":"MD",
     "hide_input_from_viewers":true,
     "hide_output_from_viewers":true
    }
   }
  },
  {
   "cell_type":"code",
   "source":[
    "#Keep only blood variables and has_disease:\n",
    "cols_to_move = [c for c in df_red.columns[20:-1]]\n",
    "df_feat = df_red.drop(cols_to_move,axis=1)\n",
    "\n",
    "#Update features\n",
    "features = [ c for c in df_feat.columns if c not in [\"Patient ID\",\n",
    "                                                     \"SARS-Cov-2 exam result\",\n",
    "                                                     \"Patient addmited to regular ward (1=yes, 0=no)\",\n",
    "                                                     \"Patient addmited to semi-intensive unit (1=yes, 0=no)\",\n",
    "                                                     \"Patient addmited to intensive care unit (1=yes, 0=no)\"]]\n",
    "\n",
    "df_feat.head()"
   ],
   "execution_count":32,
   "outputs":[
    {
     "data":{
      "text\/html":[
       "<div>\n",
       "<style scoped>\n",
       "    .dataframe tbody tr th:only-of-type {\n",
       "        vertical-align: middle;\n",
       "    }\n",
       "\n",
       "    .dataframe tbody tr th {\n",
       "        vertical-align: top;\n",
       "    }\n",
       "\n",
       "    .dataframe thead th {\n",
       "        text-align: right;\n",
       "    }\n",
       "<\/style>\n",
       "<table border=\"1\" class=\"dataframe\">\n",
       "  <thead>\n",
       "    <tr style=\"text-align: right;\">\n",
       "      <th><\/th>\n",
       "      <th>Patient ID<\/th>\n",
       "      <th>Patient age quantile<\/th>\n",
       "      <th>SARS-Cov-2 exam result<\/th>\n",
       "      <th>Patient addmited to regular ward (1=yes, 0=no)<\/th>\n",
       "      <th>Patient addmited to semi-intensive unit (1=yes, 0=no)<\/th>\n",
       "      <th>Patient addmited to intensive care unit (1=yes, 0=no)<\/th>\n",
       "      <th>Hematocrit<\/th>\n",
       "      <th>Hemoglobin<\/th>\n",
       "      <th>Platelets<\/th>\n",
       "      <th>Mean platelet volume<\/th>\n",
       "      <th>...<\/th>\n",
       "      <th>Lymphocytes<\/th>\n",
       "      <th>Mean corpuscular hemoglobin concentration (MCHC)<\/th>\n",
       "      <th>Leukocytes<\/th>\n",
       "      <th>Basophils<\/th>\n",
       "      <th>Mean corpuscular hemoglobin (MCH)<\/th>\n",
       "      <th>Eosinophils<\/th>\n",
       "      <th>Mean corpuscular volume (MCV)<\/th>\n",
       "      <th>Monocytes<\/th>\n",
       "      <th>Red blood cell distribution width (RDW)<\/th>\n",
       "      <th>has_disease<\/th>\n",
       "    <\/tr>\n",
       "  <\/thead>\n",
       "  <tbody>\n",
       "    <tr>\n",
       "      <th>1<\/th>\n",
       "      <td>126e9dd13932f68<\/td>\n",
       "      <td>17<\/td>\n",
       "      <td>0<\/td>\n",
       "      <td>0<\/td>\n",
       "      <td>0<\/td>\n",
       "      <td>0<\/td>\n",
       "      <td>0.236515<\/td>\n",
       "      <td>-0.022340<\/td>\n",
       "      <td>-0.517413<\/td>\n",
       "      <td>0.010677<\/td>\n",
       "      <td>...<\/td>\n",
       "      <td>0.318366<\/td>\n",
       "      <td>-0.950790<\/td>\n",
       "      <td>-0.094610<\/td>\n",
       "      <td>-0.223767<\/td>\n",
       "      <td>-0.292269<\/td>\n",
       "      <td>1.482158<\/td>\n",
       "      <td>0.166192<\/td>\n",
       "      <td>0.357547<\/td>\n",
       "      <td>-0.625073<\/td>\n",
       "      <td>1.0<\/td>\n",
       "    <\/tr>\n",
       "    <tr>\n",
       "      <th>8<\/th>\n",
       "      <td>8bb9d64f0215244<\/td>\n",
       "      <td>1<\/td>\n",
       "      <td>0<\/td>\n",
       "      <td>0<\/td>\n",
       "      <td>1<\/td>\n",
       "      <td>0<\/td>\n",
       "      <td>-1.571682<\/td>\n",
       "      <td>-0.774212<\/td>\n",
       "      <td>1.429667<\/td>\n",
       "      <td>-1.672222<\/td>\n",
       "      <td>...<\/td>\n",
       "      <td>-0.005738<\/td>\n",
       "      <td>3.331071<\/td>\n",
       "      <td>0.364550<\/td>\n",
       "      <td>-0.223767<\/td>\n",
       "      <td>0.178175<\/td>\n",
       "      <td>1.018625<\/td>\n",
       "      <td>-1.336024<\/td>\n",
       "      <td>0.068652<\/td>\n",
       "      <td>-0.978899<\/td>\n",
       "      <td>0.0<\/td>\n",
       "    <\/tr>\n",
       "    <tr>\n",
       "      <th>15<\/th>\n",
       "      <td>6c9d3323975b082<\/td>\n",
       "      <td>9<\/td>\n",
       "      <td>0<\/td>\n",
       "      <td>0<\/td>\n",
       "      <td>0<\/td>\n",
       "      <td>0<\/td>\n",
       "      <td>-0.747693<\/td>\n",
       "      <td>-0.586244<\/td>\n",
       "      <td>-0.429480<\/td>\n",
       "      <td>-0.213711<\/td>\n",
       "      <td>...<\/td>\n",
       "      <td>-1.114514<\/td>\n",
       "      <td>0.542882<\/td>\n",
       "      <td>-0.884923<\/td>\n",
       "      <td>0.081693<\/td>\n",
       "      <td>1.746323<\/td>\n",
       "      <td>-0.666950<\/td>\n",
       "      <td>1.668409<\/td>\n",
       "      <td>1.276759<\/td>\n",
       "      <td>-1.067355<\/td>\n",
       "      <td>1.0<\/td>\n",
       "    <\/tr>\n",
       "    <tr>\n",
       "      <th>18<\/th>\n",
       "      <td>d3ea751f3db9de9<\/td>\n",
       "      <td>11<\/td>\n",
       "      <td>0<\/td>\n",
       "      <td>0<\/td>\n",
       "      <td>0<\/td>\n",
       "      <td>0<\/td>\n",
       "      <td>0.991838<\/td>\n",
       "      <td>0.792188<\/td>\n",
       "      <td>0.072992<\/td>\n",
       "      <td>-0.550290<\/td>\n",
       "      <td>...<\/td>\n",
       "      <td>0.045436<\/td>\n",
       "      <td>-0.452899<\/td>\n",
       "      <td>-0.211488<\/td>\n",
       "      <td>-0.834685<\/td>\n",
       "      <td>0.334989<\/td>\n",
       "      <td>-0.709090<\/td>\n",
       "      <td>0.606842<\/td>\n",
       "      <td>-0.220244<\/td>\n",
       "      <td>0.171035<\/td>\n",
       "      <td>1.0<\/td>\n",
       "    <\/tr>\n",
       "    <tr>\n",
       "      <th>22<\/th>\n",
       "      <td>2c2eae16c12a18a<\/td>\n",
       "      <td>9<\/td>\n",
       "      <td>0<\/td>\n",
       "      <td>0<\/td>\n",
       "      <td>0<\/td>\n",
       "      <td>0<\/td>\n",
       "      <td>0.190738<\/td>\n",
       "      <td>-0.147652<\/td>\n",
       "      <td>-0.668155<\/td>\n",
       "      <td>1.020415<\/td>\n",
       "      <td>...<\/td>\n",
       "      <td>0.002791<\/td>\n",
       "      <td>-1.249524<\/td>\n",
       "      <td>-1.132592<\/td>\n",
       "      <td>0.387152<\/td>\n",
       "      <td>-0.083183<\/td>\n",
       "      <td>-0.709090<\/td>\n",
       "      <td>0.566783<\/td>\n",
       "      <td>2.012129<\/td>\n",
       "      <td>0.613318<\/td>\n",
       "      <td>0.0<\/td>\n",
       "    <\/tr>\n",
       "  <\/tbody>\n",
       "<\/table>\n",
       "<p>5 rows × 21 columns<\/p>\n",
       "<\/div>"
      ]
     },
     "metadata":{
      
     },
     "output_type":"display_data"
    }
   ],
   "metadata":{
    "datalore":{
     "node_id":"YzCD2fRKgL5dhaSfFreQ9u",
     "type":"CODE",
     "hide_input_from_viewers":true,
     "hide_output_from_viewers":true
    }
   }
  },
  {
   "cell_type":"code",
   "source":[
    "df_feat.isna().sum()"
   ],
   "execution_count":33,
   "outputs":[
    {
     "data":{
      "text\/html":[
       "<pre>Patient ID                                               0\n",
       "Patient age quantile                                     0\n",
       "SARS-Cov-2 exam result                                   0\n",
       "Patient addmited to regular ward (1=yes, 0=no)           0\n",
       "Patient addmited to semi-intensive unit (1=yes, 0=no)    0\n",
       "Patient addmited to intensive care unit (1=yes, 0=no)    0\n",
       "Hematocrit                                               0\n",
       "Hemoglobin                                               0\n",
       "Platelets                                                0\n",
       "Mean platelet volume                                     3\n",
       "Red blood Cells                                          0\n",
       "Lymphocytes                                              0\n",
       "Mean corpuscular hemoglobin concentration (MCHC)         0\n",
       "Leukocytes                                               0\n",
       "Basophils                                                0\n",
       "Mean corpuscular hemoglobin (MCH)                        0\n",
       "Eosinophils                                              0\n",
       "Mean corpuscular volume (MCV)                            0\n",
       "Monocytes                                                1\n",
       "Red blood cell distribution width (RDW)                  0\n",
       "has_disease                                              0\n",
       "dtype: int64<\/pre>"
      ]
     },
     "metadata":{
      
     },
     "output_type":"display_data"
    }
   ],
   "metadata":{
    "datalore":{
     "node_id":"2Ui1baPWIIaEMqzbhsypUq",
     "type":"CODE",
     "hide_input_from_viewers":true,
     "hide_output_from_viewers":true
    }
   }
  },
  {
   "cell_type":"code",
   "source":[
    "#Commplétion that column by median \n",
    "median = df_feat['Monocytes'].median()\n",
    "df_feat['Monocytes'].fillna(median,inplace=True)\n",
    "df_feat.isna().sum()"
   ],
   "execution_count":34,
   "outputs":[
    {
     "data":{
      "text\/html":[
       "<pre>Patient ID                                               0\n",
       "Patient age quantile                                     0\n",
       "SARS-Cov-2 exam result                                   0\n",
       "Patient addmited to regular ward (1=yes, 0=no)           0\n",
       "Patient addmited to semi-intensive unit (1=yes, 0=no)    0\n",
       "Patient addmited to intensive care unit (1=yes, 0=no)    0\n",
       "Hematocrit                                               0\n",
       "Hemoglobin                                               0\n",
       "Platelets                                                0\n",
       "Mean platelet volume                                     3\n",
       "Red blood Cells                                          0\n",
       "Lymphocytes                                              0\n",
       "Mean corpuscular hemoglobin concentration (MCHC)         0\n",
       "Leukocytes                                               0\n",
       "Basophils                                                0\n",
       "Mean corpuscular hemoglobin (MCH)                        0\n",
       "Eosinophils                                              0\n",
       "Mean corpuscular volume (MCV)                            0\n",
       "Monocytes                                                0\n",
       "Red blood cell distribution width (RDW)                  0\n",
       "has_disease                                              0\n",
       "dtype: int64<\/pre>"
      ]
     },
     "metadata":{
      
     },
     "output_type":"display_data"
    }
   ],
   "metadata":{
    "datalore":{
     "node_id":"SlwlV7XkmNdOJWk9D05LGZ",
     "type":"CODE",
     "hide_input_from_viewers":true,
     "hide_output_from_viewers":true
    }
   }
  },
  {
   "cell_type":"code",
   "source":[
    "df_feat.columns"
   ],
   "execution_count":35,
   "outputs":[
    {
     "data":{
      "text\/plain":[
       "Index(['Patient ID', 'Patient age quantile', 'SARS-Cov-2 exam result',\n",
       "       'Patient addmited to regular ward (1=yes, 0=no)',\n",
       "       'Patient addmited to semi-intensive unit (1=yes, 0=no)',\n",
       "       'Patient addmited to intensive care unit (1=yes, 0=no)', 'Hematocrit',\n",
       "       'Hemoglobin', 'Platelets', 'Mean platelet volume ', 'Red blood Cells',\n",
       "       'Lymphocytes', 'Mean corpuscular hemoglobin concentration (MCHC)',\n",
       "       'Leukocytes', 'Basophils', 'Mean corpuscular hemoglobin (MCH)',\n",
       "       'Eosinophils', 'Mean corpuscular volume (MCV)', 'Monocytes',\n",
       "       'Red blood cell distribution width (RDW)', 'has_disease'],\n",
       "      dtype='object')"
      ]
     },
     "metadata":{
      
     },
     "output_type":"display_data"
    }
   ],
   "metadata":{
    "datalore":{
     "node_id":"GqDj1IhCakb2QugkiBwdnd",
     "type":"CODE",
     "hide_input_from_viewers":true,
     "hide_output_from_viewers":true
    }
   }
  },
  {
   "cell_type":"code",
   "source":[
    "df_feat.head()"
   ],
   "execution_count":36,
   "outputs":[
    {
     "data":{
      "text\/html":[
       "<div>\n",
       "<style scoped>\n",
       "    .dataframe tbody tr th:only-of-type {\n",
       "        vertical-align: middle;\n",
       "    }\n",
       "\n",
       "    .dataframe tbody tr th {\n",
       "        vertical-align: top;\n",
       "    }\n",
       "\n",
       "    .dataframe thead th {\n",
       "        text-align: right;\n",
       "    }\n",
       "<\/style>\n",
       "<table border=\"1\" class=\"dataframe\">\n",
       "  <thead>\n",
       "    <tr style=\"text-align: right;\">\n",
       "      <th><\/th>\n",
       "      <th>Patient ID<\/th>\n",
       "      <th>Patient age quantile<\/th>\n",
       "      <th>SARS-Cov-2 exam result<\/th>\n",
       "      <th>Patient addmited to regular ward (1=yes, 0=no)<\/th>\n",
       "      <th>Patient addmited to semi-intensive unit (1=yes, 0=no)<\/th>\n",
       "      <th>Patient addmited to intensive care unit (1=yes, 0=no)<\/th>\n",
       "      <th>Hematocrit<\/th>\n",
       "      <th>Hemoglobin<\/th>\n",
       "      <th>Platelets<\/th>\n",
       "      <th>Mean platelet volume<\/th>\n",
       "      <th>...<\/th>\n",
       "      <th>Lymphocytes<\/th>\n",
       "      <th>Mean corpuscular hemoglobin concentration (MCHC)<\/th>\n",
       "      <th>Leukocytes<\/th>\n",
       "      <th>Basophils<\/th>\n",
       "      <th>Mean corpuscular hemoglobin (MCH)<\/th>\n",
       "      <th>Eosinophils<\/th>\n",
       "      <th>Mean corpuscular volume (MCV)<\/th>\n",
       "      <th>Monocytes<\/th>\n",
       "      <th>Red blood cell distribution width (RDW)<\/th>\n",
       "      <th>has_disease<\/th>\n",
       "    <\/tr>\n",
       "  <\/thead>\n",
       "  <tbody>\n",
       "    <tr>\n",
       "      <th>1<\/th>\n",
       "      <td>126e9dd13932f68<\/td>\n",
       "      <td>17<\/td>\n",
       "      <td>0<\/td>\n",
       "      <td>0<\/td>\n",
       "      <td>0<\/td>\n",
       "      <td>0<\/td>\n",
       "      <td>0.236515<\/td>\n",
       "      <td>-0.022340<\/td>\n",
       "      <td>-0.517413<\/td>\n",
       "      <td>0.010677<\/td>\n",
       "      <td>...<\/td>\n",
       "      <td>0.318366<\/td>\n",
       "      <td>-0.950790<\/td>\n",
       "      <td>-0.094610<\/td>\n",
       "      <td>-0.223767<\/td>\n",
       "      <td>-0.292269<\/td>\n",
       "      <td>1.482158<\/td>\n",
       "      <td>0.166192<\/td>\n",
       "      <td>0.357547<\/td>\n",
       "      <td>-0.625073<\/td>\n",
       "      <td>1.0<\/td>\n",
       "    <\/tr>\n",
       "    <tr>\n",
       "      <th>8<\/th>\n",
       "      <td>8bb9d64f0215244<\/td>\n",
       "      <td>1<\/td>\n",
       "      <td>0<\/td>\n",
       "      <td>0<\/td>\n",
       "      <td>1<\/td>\n",
       "      <td>0<\/td>\n",
       "      <td>-1.571682<\/td>\n",
       "      <td>-0.774212<\/td>\n",
       "      <td>1.429667<\/td>\n",
       "      <td>-1.672222<\/td>\n",
       "      <td>...<\/td>\n",
       "      <td>-0.005738<\/td>\n",
       "      <td>3.331071<\/td>\n",
       "      <td>0.364550<\/td>\n",
       "      <td>-0.223767<\/td>\n",
       "      <td>0.178175<\/td>\n",
       "      <td>1.018625<\/td>\n",
       "      <td>-1.336024<\/td>\n",
       "      <td>0.068652<\/td>\n",
       "      <td>-0.978899<\/td>\n",
       "      <td>0.0<\/td>\n",
       "    <\/tr>\n",
       "    <tr>\n",
       "      <th>15<\/th>\n",
       "      <td>6c9d3323975b082<\/td>\n",
       "      <td>9<\/td>\n",
       "      <td>0<\/td>\n",
       "      <td>0<\/td>\n",
       "      <td>0<\/td>\n",
       "      <td>0<\/td>\n",
       "      <td>-0.747693<\/td>\n",
       "      <td>-0.586244<\/td>\n",
       "      <td>-0.429480<\/td>\n",
       "      <td>-0.213711<\/td>\n",
       "      <td>...<\/td>\n",
       "      <td>-1.114514<\/td>\n",
       "      <td>0.542882<\/td>\n",
       "      <td>-0.884923<\/td>\n",
       "      <td>0.081693<\/td>\n",
       "      <td>1.746323<\/td>\n",
       "      <td>-0.666950<\/td>\n",
       "      <td>1.668409<\/td>\n",
       "      <td>1.276759<\/td>\n",
       "      <td>-1.067355<\/td>\n",
       "      <td>1.0<\/td>\n",
       "    <\/tr>\n",
       "    <tr>\n",
       "      <th>18<\/th>\n",
       "      <td>d3ea751f3db9de9<\/td>\n",
       "      <td>11<\/td>\n",
       "      <td>0<\/td>\n",
       "      <td>0<\/td>\n",
       "      <td>0<\/td>\n",
       "      <td>0<\/td>\n",
       "      <td>0.991838<\/td>\n",
       "      <td>0.792188<\/td>\n",
       "      <td>0.072992<\/td>\n",
       "      <td>-0.550290<\/td>\n",
       "      <td>...<\/td>\n",
       "      <td>0.045436<\/td>\n",
       "      <td>-0.452899<\/td>\n",
       "      <td>-0.211488<\/td>\n",
       "      <td>-0.834685<\/td>\n",
       "      <td>0.334989<\/td>\n",
       "      <td>-0.709090<\/td>\n",
       "      <td>0.606842<\/td>\n",
       "      <td>-0.220244<\/td>\n",
       "      <td>0.171035<\/td>\n",
       "      <td>1.0<\/td>\n",
       "    <\/tr>\n",
       "    <tr>\n",
       "      <th>22<\/th>\n",
       "      <td>2c2eae16c12a18a<\/td>\n",
       "      <td>9<\/td>\n",
       "      <td>0<\/td>\n",
       "      <td>0<\/td>\n",
       "      <td>0<\/td>\n",
       "      <td>0<\/td>\n",
       "      <td>0.190738<\/td>\n",
       "      <td>-0.147652<\/td>\n",
       "      <td>-0.668155<\/td>\n",
       "      <td>1.020415<\/td>\n",
       "      <td>...<\/td>\n",
       "      <td>0.002791<\/td>\n",
       "      <td>-1.249524<\/td>\n",
       "      <td>-1.132592<\/td>\n",
       "      <td>0.387152<\/td>\n",
       "      <td>-0.083183<\/td>\n",
       "      <td>-0.709090<\/td>\n",
       "      <td>0.566783<\/td>\n",
       "      <td>2.012129<\/td>\n",
       "      <td>0.613318<\/td>\n",
       "      <td>0.0<\/td>\n",
       "    <\/tr>\n",
       "  <\/tbody>\n",
       "<\/table>\n",
       "<p>5 rows × 21 columns<\/p>\n",
       "<\/div>"
      ]
     },
     "metadata":{
      
     },
     "output_type":"display_data"
    }
   ],
   "metadata":{
    "datalore":{
     "node_id":"7xj3XsG9q1RstnxxlgchJI",
     "type":"CODE",
     "hide_input_from_viewers":true,
     "hide_output_from_viewers":true
    }
   }
  },
  {
   "cell_type":"code",
   "source":[
    "df_feat['Mean platelet volume '].head()"
   ],
   "execution_count":37,
   "outputs":[
    {
     "data":{
      "text\/html":[
       "<pre>1     0.010677\n",
       "8    -1.672222\n",
       "15   -0.213711\n",
       "18   -0.550290\n",
       "22    1.020415\n",
       "Name: Mean platelet volume , dtype: float64<\/pre>"
      ]
     },
     "metadata":{
      
     },
     "output_type":"display_data"
    }
   ],
   "metadata":{
    "datalore":{
     "node_id":"oFFbpoiL2QAtMvvkjcbeX3",
     "type":"CODE",
     "hide_input_from_viewers":true,
     "hide_output_from_viewers":true
    }
   }
  },
  {
   "cell_type":"code",
   "source":[
    "#Commplétion that column by mean \n",
    "mean = df_feat['Mean platelet volume '].mean()\n",
    "df_feat[\"Mean platelet volume \"].fillna(mean,inplace=True)\n",
    "df_feat.isna().sum().sum()"
   ],
   "execution_count":38,
   "outputs":[
    {
     "data":{
      "text\/plain":[
       "0"
      ]
     },
     "metadata":{
      
     },
     "output_type":"display_data"
    }
   ],
   "metadata":{
    "datalore":{
     "node_id":"omV8moPeEA9Dhsm2WoePNK",
     "type":"CODE",
     "hide_input_from_viewers":true,
     "hide_output_from_viewers":true
    }
   }
  },
  {
   "cell_type":"markdown",
   "source":[
    "Note :\n",
    "\n",
    "Once again, ready for modeling.\n",
    "\n",
    "But first, let's take a look at correlations."
   ],
   "attachments":{
    
   },
   "metadata":{
    "datalore":{
     "node_id":"guhwmpzv3cjZfuPOyUNCwh",
     "type":"MD",
     "hide_input_from_viewers":true,
     "hide_output_from_viewers":true
    }
   }
  },
  {
   "cell_type":"markdown",
   "source":[
    "### Correlations"
   ],
   "attachments":{
    
   },
   "metadata":{
    "datalore":{
     "node_id":"xHdXlPbqlEMh0c5Xnkmj9o",
     "type":"MD",
     "hide_input_from_viewers":true,
     "hide_output_from_viewers":true
    }
   }
  },
  {
   "cell_type":"code",
   "source":[
    "corr = df_feat.drop([\"Patient ID\",\n",
    "                     \"Patient addmited to regular ward (1=yes, 0=no)\",\n",
    "                     'Patient addmited to semi-intensive unit (1=yes, 0=no)',\n",
    "                     \"Patient addmited to intensive care unit (1=yes, 0=no)\"],axis=1).corr()\n",
    "\n",
    "plt.figure(figsize=(20,15))\n",
    "sns.heatmap(corr,xticklabels=corr.columns,yticklabels=corr.columns,cmap=sns.color_palette('RdBu_r'),annot=True)\n",
    "plt.show()"
   ],
   "execution_count":39,
   "outputs":[
    {
     "data":{
      "image\/png":"[encoded data removed]"
     },
     "metadata":{
      "image\/png":{
       
      }
     },
     "output_type":"display_data"
    }
   ],
   "metadata":{
    "datalore":{
     "node_id":"iDXzt08JFM7bxreUJws50C",
     "type":"CODE",
     "hide_input_from_viewers":true,
     "hide_output_from_viewers":true
    }
   }
  },
  {
   "cell_type":"markdown",
   "source":[
    "Note: \n",
    "\n",
    "Using a correlation heatmap, we can get a sense of the most important variables for the target (second line). Leukocytes, Platelets and has_disease have near -0.3 correlation - they will be important variables. Monocytes and age, on the other hand, have a slight positive correlation.\n",
    "\n",
    "Some features have a high correlation within themselves, so we have to make decisions in order to reduce noise. Hematocrit and Hemoglobin basically mean the same thing (0.97 correlation). They have very high correlation with Red blood Cells as well (0.87 and 0.84, respectively). Their correlations with the target are very similar as well, so I'll keep the one with the highest (Red Blood Cells, 0.12). The other two hightly correlated variables are MCV and MCH - in this case, MCV is more correlated to the target (-0.055 vs. -0.028), so I'll keep it.\n",
    "\n",
    "- Keep:MCV,Red Blood Cells\n",
    "- Remove: MCH,Hematocrit,Hemoglobin"
   ],
   "attachments":{
    
   },
   "metadata":{
    "datalore":{
     "node_id":"19IfsEazae6nW8Nvf6lgV0",
     "type":"MD",
     "hide_input_from_viewers":true,
     "hide_output_from_viewers":true
    }
   }
  },
  {
   "cell_type":"code",
   "source":[
    "df_feat = df_feat.drop([\"Mean corpuscular hemoglobin (MCH)\",\"Hematocrit\",\"Hemoglobin\"],axis=1)\n",
    "#Update features\n",
    "features = [f for f in features if f not in [\"Mean corpuscular hemoglobin (MCH)\",'Hematocrit','Hemoglobin']]"
   ],
   "execution_count":40,
   "outputs":[
    
   ],
   "metadata":{
    "datalore":{
     "node_id":"mvmIodnhH2UJ5Exro66JYC",
     "type":"CODE",
     "hide_input_from_viewers":true,
     "hide_output_from_viewers":true
    }
   }
  },
  {
   "cell_type":"markdown",
   "source":[
    "### Retrain Simple Random Forest"
   ],
   "attachments":{
    
   },
   "metadata":{
    "datalore":{
     "node_id":"w3s7t6otlCeZnrTuNWlNpC",
     "type":"MD",
     "hide_input_from_viewers":true,
     "hide_output_from_viewers":true
    }
   }
  },
  {
   "cell_type":"code",
   "source":[
    "X = df_feat[features]\n",
    "y = df_feat['SARS-Cov-2 exam result'].values\n",
    "X_train,X_test,y_train,y_test = train_test_split(X,y,stratify=y,test_size=0.2,random_state=42)\n",
    "print(\"SPLIT between test and train!\")\n",
    "\n",
    "#Apply RandomForest\n",
    "rf = RandomForestClassifier(n_estimators=100,max_features=\"sqrt\",random_state=42)\n",
    "fitRandomForest(rf)"
   ],
   "execution_count":41,
   "outputs":[
    {
     "name":"stdout",
     "text":[
      "SPLIT between test and train!\n",
      "Confusion Matrix: \n",
      " [[101   3]\n",
      " [ 11   6]]\n",
      "Classification Report \n",
      "               precision    recall  f1-score   support\n",
      "\n",
      "           0       0.90      0.97      0.94       104\n",
      "           1       0.67      0.35      0.46        17\n",
      "\n",
      "    accuracy                           0.88       121\n",
      "   macro avg       0.78      0.66      0.70       121\n",
      "weighted avg       0.87      0.88      0.87       121\n",
      "\n",
      "Accuracy Score: 0.8842975206611571\n",
      "Recall Score: 0.35294117647058826\n",
      "AUC: 0.6620475113122172\n",
      "KS: 0.3240950226244344\n"
     ],
     "output_type":"stream"
    }
   ],
   "metadata":{
    "datalore":{
     "node_id":"xBbBGw1OyoJEChBstlDjmL",
     "type":"CODE",
     "hide_input_from_viewers":true,
     "hide_output_from_viewers":true
    }
   }
  },
  {
   "cell_type":"markdown",
   "source":[
    "Note :\n",
    "Still far from ideal, but we can see an improvement! Obviously our test set is very small, but we went from 4% Recall to 35%. At least the model has some capacity to distinguish classes.\n",
    "\n",
    "Next, let's see if we can improve results using GridSearch.\n",
    "\n",
    "The metric chosen is Recall, since we are more interested in minimizing the False Negatives (people predicted to be healthy, when in fact are infected).\n",
    "\n",
    "### GridSearch"
   ],
   "attachments":{
    
   },
   "metadata":{
    "datalore":{
     "node_id":"SHRGLktThwldERWWVrjCKu",
     "type":"MD",
     "hide_input_from_viewers":true,
     "hide_output_from_viewers":true
    }
   }
  },
  {
   "cell_type":"code",
   "source":[
    "random_grid = {'n_estimators':[10,50,100,200,300],\n",
    "               \"max_features\":[\"sqrt\",\"log2\",5,10,30],\n",
    "               \"max_depth\":[2, 8, 16, 32, 64, 128],\n",
    "               #\"min_samples_split\":[1, 2, 4, 5, 16, 24],\n",
    "               \"min_samples_leaf\":[1, 2, 5, 10, 15, 30]}\n",
    "rf = RandomForestClassifier()\n",
    "rf_random = RandomizedSearchCV(estimator = rf ,param_distributions =random_grid,\n",
    "                               n_iter = 100,cv=5,\n",
    "                               scoring='recall',\n",
    "                               verbose=0,\n",
    "                               random_state=42,\n",
    "                               n_jobs=-1)\n",
    "#Fit the random search model1\n",
    "fitRandomForest(rf_random)\n",
    "print(rf_random.best_params_)"
   ],
   "execution_count":42,
   "outputs":[
    {
     "name":"stdout",
     "text":[
      "Confusion Matrix: \n",
      " [[101   3]\n",
      " [  9   8]]\n",
      "Classification Report \n",
      "               precision    recall  f1-score   support\n",
      "\n",
      "           0       0.92      0.97      0.94       104\n",
      "           1       0.73      0.47      0.57        17\n",
      "\n",
      "    accuracy                           0.90       121\n",
      "   macro avg       0.82      0.72      0.76       121\n",
      "weighted avg       0.89      0.90      0.89       121\n",
      "\n",
      "Accuracy Score: 0.9008264462809917\n",
      "Recall Score: 0.47058823529411764\n",
      "AUC: 0.7208710407239819\n",
      "KS: 0.4417420814479638\n",
      "{'n_estimators': 100, 'min_samples_leaf': 1, 'max_features': 10, 'max_depth': 32}\n"
     ],
     "output_type":"stream"
    }
   ],
   "metadata":{
    "datalore":{
     "node_id":"gw7MHMidvLgqsMcrrYHeJY",
     "type":"CODE",
     "hide_input_from_viewers":true,
     "hide_output_from_viewers":true
    }
   }
  },
  {
   "cell_type":"markdown",
   "source":[
    "Note: \n",
    "\n",
    "Nothing changed. As a next step, let's try to overcome our imbalance problem with an oversampling technique called SMOTE. Basically, SMOTE synthetically creates minority class samples to deal with imbalanced classification. More on the technique can be found on https:\/\/arxiv.org\/abs\/1106.1813"
   ],
   "attachments":{
    
   },
   "metadata":{
    "datalore":{
     "node_id":"945gbImGVc5w8zrBTRvQVL",
     "type":"MD",
     "hide_input_from_viewers":true,
     "hide_output_from_viewers":true
    }
   }
  },
  {
   "cell_type":"code",
   "source":[
    "pip install snapml"
   ],
   "execution_count":43,
   "outputs":[
    {
     "name":"stdout",
     "text":[
      "Requirement already satisfied: snapml in \/opt\/python\/envs\/default\/lib\/python3.8\/site-packages (1.14.0)\r\n",
      "Requirement already satisfied: scipy in \/opt\/python\/envs\/default\/lib\/python3.8\/site-packages (from snapml) (1.10.1)\r\n",
      "Requirement already satisfied: scikit-learn in \/opt\/python\/envs\/default\/lib\/python3.8\/site-packages (from snapml) (1.2.2)\r\n",
      "Requirement already satisfied: numpy>=1.18.5 in \/opt\/python\/envs\/default\/lib\/python3.8\/site-packages (from snapml) (1.23.5)\r\n",
      "Requirement already satisfied: joblib>=1.1.1 in \/opt\/python\/envs\/default\/lib\/python3.8\/site-packages (from scikit-learn->snapml) (1.2.0)\r\n",
      "Requirement already satisfied: threadpoolctl>=2.0.0 in \/opt\/python\/envs\/default\/lib\/python3.8\/site-packages (from scikit-learn->snapml) (3.1.0)\r\n",
      "\r\n",
      "\u001b[1m[\u001b[0m\u001b[34;49mnotice\u001b[0m\u001b[1;39;49m]\u001b[0m\u001b[39;49m A new release of pip is available: \u001b[0m\u001b[31;49m23.0.1\u001b[0m\u001b[39;49m -> \u001b[0m\u001b[32;49m23.1.2\u001b[0m\r\n",
      "\u001b[1m[\u001b[0m\u001b[34;49mnotice\u001b[0m\u001b[1;39;49m]\u001b[0m\u001b[39;49m To update, run: \u001b[0m\u001b[32;49mpip install --upgrade pip\u001b[0m\r\n",
      "Note: you may need to restart the kernel to use updated packages.\n"
     ],
     "output_type":"stream"
    }
   ],
   "metadata":{
    "datalore":{
     "node_id":"ogAs1bnNRXAgJQ58fi2rbM",
     "type":"CODE",
     "hide_input_from_viewers":true,
     "hide_output_from_viewers":true
    }
   }
  },
  {
   "cell_type":"code",
   "source":[
    "import warnings\n",
    "warnings.filterwarnings('ignore')\n",
    "warnings.simplefilter('ignore')\n",
    "\n",
    "# Ignorer les avertissements de type FitFailedWarning\n",
    "warnings.filterwarnings(\"ignore\")\n",
    "\n",
    "from tqdm.notebook import tqdm\n",
    "from sklearn.model_selection import GridSearchCV\n",
    "from snapml import RandomForestClassifier as SnapForestClassifier\n",
    "\n",
    "def fitRandomForest2(model):\n",
    "    model.fit(X_train, y_train)\n",
    "    y_pred = model.predict(X_test)\n",
    "    # ConfusionMatrix and Accuracy\n",
    "    print(\"Confusion Matrix:\\n\", confusion_matrix(y_test, y_pred))\n",
    "    print(\"Classification Report:\\n\", classification_report(y_test, y_pred))\n",
    "    print(\"Accuracy Score:\", accuracy_score(y_test, y_pred))\n",
    "    print(\"Recall Score:\", recall_score(y_test, y_pred))\n",
    "    # AUC and KS\n",
    "    print(\"AUC:\", roc_auc_score(y_test, y_pred))\n",
    "\n",
    "# Convertir les données en tableaux NumPy\n",
    "X_train = np.array(X_train)\n",
    "X_test = np.array(X_test)\n",
    "y_train = np.array(y_train)\n",
    "y_test = np.array(y_test)\n",
    "\n",
    "param_grid = {\n",
    "    'n_estimators': [10, 50, 100, 200, 500],\n",
    "    'max_features': [\"sqrt\", \"log2\", 5, 10, 30],\n",
    "    'max_depth': [2, 8, 16, 32, 64, 128],\n",
    "    'min_samples_leaf': [1, 2, 5, 10, 15, 30]\n",
    "}\n",
    "\n",
    "Snaprf = SnapForestClassifier(random_state=42)\n",
    "rf_random = GridSearchCV(Snaprf, param_grid, cv=5, scoring='recall')\n",
    "\n",
    "# Adapter le modèle de recherche aléatoire\n",
    "rf_random.fit(X_train, y_train)\n",
    "\n",
    "# Afficher les meilleurs paramètres et le meilleur score\n",
    "print(\"Meilleurs paramètres :\", rf_random.best_params_)\n",
    "print(\"Meilleur score :\", rf_random.best_score_)\n",
    "\n",
    "# Utiliser la fonction fitRandomForest2 pour évaluer le modèle avec les meilleurs paramètres\n",
    "fitRandomForest2(rf_random.best_estimator_)"
   ],
   "execution_count":44,
   "outputs":[
    {
     "name":"stdout",
     "text":[
      "Meilleurs paramètres : {'max_depth': 8, 'max_features': 10, 'min_samples_leaf': 1, 'n_estimators': 50}\n",
      "Meilleur score : 0.4384615384615385\n",
      "Confusion Matrix:\n",
      " [[100   4]\n",
      " [  9   8]]\n",
      "Classification Report:\n",
      "               precision    recall  f1-score   support\n",
      "\n",
      "           0       0.92      0.96      0.94       104\n",
      "           1       0.67      0.47      0.55        17\n",
      "\n",
      "    accuracy                           0.89       121\n",
      "   macro avg       0.79      0.72      0.75       121\n",
      "weighted avg       0.88      0.89      0.88       121\n",
      "\n",
      "Accuracy Score: 0.8925619834710744\n",
      "Recall Score: 0.47058823529411764\n",
      "AUC: 0.7160633484162896\n"
     ],
     "output_type":"stream"
    }
   ],
   "metadata":{
    "datalore":{
     "node_id":"XSCHFMJL0v40NEapjdglFk",
     "type":"CODE",
     "hide_input_from_viewers":true,
     "hide_output_from_viewers":true
    }
   }
  },
  {
   "cell_type":"markdown",
   "source":[
    "### SMOTE"
   ],
   "attachments":{
    
   },
   "metadata":{
    "datalore":{
     "node_id":"X8efrIvBAhWexSsodrsKac",
     "type":"MD",
     "hide_input_from_viewers":true,
     "hide_output_from_viewers":true
    }
   }
  },
  {
   "cell_type":"code",
   "source":[
    "smt = SMOTE(k_neighbors=5,random_state=42)\n",
    "X_train,y_train = smt.fit_resample(X_train,y_train)\n",
    "\n",
    "np.bincount(y_train)"
   ],
   "execution_count":45,
   "outputs":[
    {
     "data":{
      "text\/html":[
       "<pre>array([415, 415])<\/pre>"
      ]
     },
     "metadata":{
      
     },
     "output_type":"display_data"
    }
   ],
   "metadata":{
    "datalore":{
     "node_id":"guLHLSbtkHGm3jhatISvn7",
     "type":"CODE",
     "hide_input_from_viewers":true,
     "hide_output_from_viewers":true
    }
   }
  },
  {
   "cell_type":"markdown",
   "source":[
    "Note: \n",
    "Now our training set has class balance, thanks to synthetic oversampling of minority class.\n",
    "\n",
    "### Retrain simple Random Forest with SMOTE"
   ],
   "attachments":{
    
   },
   "metadata":{
    "datalore":{
     "node_id":"vxSqU9VLlq8E1lCzNrkdmi",
     "type":"MD",
     "hide_input_from_viewers":true,
     "hide_output_from_viewers":true
    }
   }
  },
  {
   "cell_type":"code",
   "source":[
    "rf = RandomForestClassifier(n_estimators=100,max_features=\"sqrt\",random_state=42)\n",
    "fitRandomForest(rf)"
   ],
   "execution_count":46,
   "outputs":[
    {
     "name":"stdout",
     "text":[
      "Confusion Matrix: \n",
      " [[100   4]\n",
      " [  7  10]]\n",
      "Classification Report \n",
      "               precision    recall  f1-score   support\n",
      "\n",
      "           0       0.93      0.96      0.95       104\n",
      "           1       0.71      0.59      0.65        17\n",
      "\n",
      "    accuracy                           0.91       121\n",
      "   macro avg       0.82      0.77      0.80       121\n",
      "weighted avg       0.90      0.91      0.91       121\n",
      "\n",
      "Accuracy Score: 0.9090909090909091\n",
      "Recall Score: 0.5882352941176471\n",
      "AUC: 0.7748868778280543\n",
      "KS: 0.5497737556561086\n"
     ],
     "output_type":"stream"
    }
   ],
   "metadata":{
    "datalore":{
     "node_id":"TPcKotYKFL9Yp9OFT7mFtB",
     "type":"CODE",
     "hide_input_from_viewers":true,
     "hide_output_from_viewers":true
    }
   }
  },
  {
   "cell_type":"markdown",
   "source":[
    "Note:\n",
    "\n",
    "Much better! Oversampling with SMOTE helps the model to distinguish between positive and negative results. We reached a Recall of 65%, which is somewhat acceptable.\n",
    "\n",
    "Finally, we will try to improve this result using GridSearch + SMOTE."
   ],
   "attachments":{
    
   },
   "metadata":{
    "datalore":{
     "node_id":"I25l4aHsBvkxrIUZltFxeG",
     "type":"MD",
     "hide_input_from_viewers":true,
     "hide_output_from_viewers":true
    }
   }
  },
  {
   "cell_type":"markdown",
   "source":[
    "### GridSearch + SMOTE:"
   ],
   "attachments":{
    
   },
   "metadata":{
    "datalore":{
     "node_id":"irrBOiRn5k3fP17vJemYMh",
     "type":"MD",
     "hide_input_from_viewers":true,
     "hide_output_from_viewers":true
    }
   }
  },
  {
   "cell_type":"code",
   "source":[
    "rf = RandomForestClassifier()\n",
    "rf_random = RandomizedSearchCV(estimator = rf,\n",
    "                               param_distributions =random_grid,\n",
    "                               n_iter=100,cv=5,\n",
    "                               scoring=\"recall\",\n",
    "                               verbose=0,\n",
    "                               random_state=42,\n",
    "                               n_jobs=-1)\n",
    "#Fit the random search Model\n",
    "fitRandomForest(rf_random)\n",
    "print(rf_random.best_params_)"
   ],
   "execution_count":47,
   "outputs":[
    {
     "name":"stdout",
     "text":[
      "Confusion Matrix: \n",
      " [[96  8]\n",
      " [ 6 11]]\n",
      "Classification Report \n",
      "               precision    recall  f1-score   support\n",
      "\n",
      "           0       0.94      0.92      0.93       104\n",
      "           1       0.58      0.65      0.61        17\n",
      "\n",
      "    accuracy                           0.88       121\n",
      "   macro avg       0.76      0.79      0.77       121\n",
      "weighted avg       0.89      0.88      0.89       121\n",
      "\n",
      "Accuracy Score: 0.8842975206611571\n",
      "Recall Score: 0.6470588235294118\n",
      "AUC: 0.7850678733031674\n",
      "KS: 0.5701357466063348\n",
      "{'n_estimators': 50, 'min_samples_leaf': 1, 'max_features': 5, 'max_depth': 8}\n"
     ],
     "output_type":"stream"
    }
   ],
   "metadata":{
    "datalore":{
     "node_id":"gUAYokLStQDYqOuUBO4arY",
     "type":"CODE",
     "hide_input_from_viewers":true,
     "hide_output_from_viewers":true
    }
   }
  },
  {
   "cell_type":"markdown",
   "source":[
    "Note: \n",
    "Even better!\n",
    "\n",
    "I think this is very close to the limit we can achieve, given dataset complications. Recall (71%) is not overly high but still acceptable, and the model is still able to correctly classify non-infected (91% Accuracy). This means that we have reduced the False Negatives (very costly), without having to sacrifice too many False Positives (less expensive, but still would have to test healthy people).\n",
    "\n",
    "Still, let's try some other models.\n",
    "\n",
    "### Try Logistic Regression"
   ],
   "attachments":{
    
   },
   "metadata":{
    "datalore":{
     "node_id":"5YUZkLQlygn2cXfid7BTZC",
     "type":"MD",
     "hide_input_from_viewers":true,
     "hide_output_from_viewers":true
    }
   }
  },
  {
   "cell_type":"code",
   "source":[
    "def fit_and_print(model) :\n",
    "    model.fit(X_train,y_train)\n",
    "    y_pred = model.predict(X_test)\n",
    "    #ConfusionMatrix and Accuracy\n",
    "    print(\"Confusion Matrix: \\n\",confusion_matrix(y_test,y_pred))\n",
    "    print(\"Classification Report \\n\",classification_report(y_test,y_pred))\n",
    "    print(\"Accuracy Score:\",accuracy_score(y_test,y_pred))\n",
    "    print(\"Recall Score:\",recall_score(y_test,y_pred))\n",
    "    #AUC and KS\n",
    "    print(\"AUC:\",roc_auc_score(y_test,y_pred))\n",
    "    print(\"KS:\",ks_2samp(y_pred[y_test==0],y_pred[y_test == 1]).statistic)"
   ],
   "execution_count":48,
   "outputs":[
    
   ],
   "metadata":{
    "datalore":{
     "node_id":"0aX3PtnhAUNFjQPyjQkWqu",
     "type":"CODE",
     "hide_input_from_viewers":true,
     "hide_output_from_viewers":true
    }
   }
  },
  {
   "cell_type":"code",
   "source":[
    "random_grid = {\"penalty\":[\"l1\",\"l2\"],\n",
    "               \"C\":[100, 10, 1, 0, 0.1, 0.01, 0.001]}\n",
    "lr = LogisticRegression()\n",
    "lr_random = RandomizedSearchCV(estimator=lr,\n",
    "                               param_distributions=random_grid,\n",
    "                               n_iter = 100,\n",
    "                               cv= 5,\n",
    "                               scoring=\"recall\",\n",
    "                               verbose=0,\n",
    "                               random_state =42)\n",
    "#Fit the random search model\n",
    "fit_and_print(lr_random)\n",
    "print(lr_random.best_params_)"
   ],
   "execution_count":49,
   "outputs":[
    {
     "name":"stdout",
     "text":[
      "Confusion Matrix: \n",
      " [[90 14]\n",
      " [ 5 12]]\n",
      "Classification Report \n",
      "               precision    recall  f1-score   support\n",
      "\n",
      "           0       0.95      0.87      0.90       104\n",
      "           1       0.46      0.71      0.56        17\n",
      "\n",
      "    accuracy                           0.84       121\n",
      "   macro avg       0.70      0.79      0.73       121\n",
      "weighted avg       0.88      0.84      0.86       121\n",
      "\n",
      "Accuracy Score: 0.8429752066115702\n",
      "Recall Score: 0.7058823529411765\n",
      "AUC: 0.785633484162896\n",
      "KS: 0.5712669683257918\n",
      "{'penalty': 'l2', 'C': 100}\n"
     ],
     "output_type":"stream"
    }
   ],
   "metadata":{
    "datalore":{
     "node_id":"DutKQ2szMJi5w85Nv5rAUn",
     "type":"CODE",
     "hide_input_from_viewers":true,
     "hide_output_from_viewers":true
    }
   }
  },
  {
   "cell_type":"markdown",
   "source":[
    "Note: \n",
    "\n",
    "Very similar to RF, but less able to correctly classify negative class.\n",
    "\n",
    "### Try KNN"
   ],
   "attachments":{
    
   },
   "metadata":{
    "datalore":{
     "node_id":"uuSJ31E6uRoOt8WNzOQTIc",
     "type":"MD",
     "hide_input_from_viewers":true,
     "hide_output_from_viewers":true
    }
   }
  },
  {
   "cell_type":"code",
   "source":[
    "random_grid = {\n",
    "    \"n_neighbors\":[2, 3, 5, 8, 10, 12, 15, 20, 30],\n",
    "    \"weights\":['uniform','distance'],\n",
    "    \"p\":[1,2,3]\n",
    "}\n",
    "knn = KNeighborsClassifier()\n",
    "\n",
    "knn_random = RandomizedSearchCV(estimator=knn,\n",
    "                                param_distributions=random_grid,\n",
    "                                n_iter=100,\n",
    "                                cv=5,\n",
    "                                scoring=\"recall\",\n",
    "                                verbose=0,\n",
    "                                random_state=42)\n",
    "#Fit the random search model\n",
    "fit_and_print(knn_random)\n",
    "print(knn_random.best_params_)"
   ],
   "execution_count":50,
   "outputs":[
    {
     "name":"stdout",
     "text":[
      "Confusion Matrix: \n",
      " [[81 23]\n",
      " [ 8  9]]\n",
      "Classification Report \n",
      "               precision    recall  f1-score   support\n",
      "\n",
      "           0       0.91      0.78      0.84       104\n",
      "           1       0.28      0.53      0.37        17\n",
      "\n",
      "    accuracy                           0.74       121\n",
      "   macro avg       0.60      0.65      0.60       121\n",
      "weighted avg       0.82      0.74      0.77       121\n",
      "\n",
      "Accuracy Score: 0.743801652892562\n",
      "Recall Score: 0.5294117647058824\n",
      "AUC: 0.6541289592760181\n",
      "KS: 0.3082579185520362\n",
      "{'weights': 'distance', 'p': 1, 'n_neighbors': 2}\n"
     ],
     "output_type":"stream"
    }
   ],
   "metadata":{
    "datalore":{
     "node_id":"kOKK3vnDzTPmqrFRo5cRq9",
     "type":"CODE",
     "hide_input_from_viewers":true,
     "hide_output_from_viewers":true
    }
   }
  },
  {
   "cell_type":"markdown",
   "source":[
    "Note :\n",
    "Note very helpfull\n",
    "\n",
    "### Try SVM"
   ],
   "attachments":{
    
   },
   "metadata":{
    "datalore":{
     "node_id":"6b7UQ73qx7Rlo59qNanzLk",
     "type":"MD",
     "hide_input_from_viewers":true,
     "hide_output_from_viewers":true
    }
   }
  },
  {
   "cell_type":"code",
   "source":[
    "random_grid = {\n",
    "    \"C\":[0.1, 1, 10, 100, 500],\n",
    "    \"gamma\":[\"auto\",1, 0.1, 0.01, 0.001],\n",
    "    \"kernel\":['linear',\"poly\",\"rbf\",\"sigmoid\"]}\n",
    "svc = SVC()\n",
    "svc_random = RandomizedSearchCV(estimator =svc ,\n",
    "                                param_distributions = random_grid,\n",
    "                                n_iter=100,\n",
    "                                cv=5,\n",
    "                                scoring=\"recall\",\n",
    "                                verbose=0,\n",
    "                                random_state=42,\n",
    "                                n_jobs=-1)\n",
    "#Fit the random search model\n",
    "fit_and_print(svc_random)\n",
    "print(svc_random.best_params_)"
   ],
   "execution_count":51,
   "outputs":[
    {
     "name":"stdout",
     "text":[
      "Confusion Matrix: \n",
      " [[91 13]\n",
      " [ 9  8]]\n",
      "Classification Report \n",
      "               precision    recall  f1-score   support\n",
      "\n",
      "           0       0.91      0.88      0.89       104\n",
      "           1       0.38      0.47      0.42        17\n",
      "\n",
      "    accuracy                           0.82       121\n",
      "   macro avg       0.65      0.67      0.66       121\n",
      "weighted avg       0.84      0.82      0.83       121\n",
      "\n",
      "Accuracy Score: 0.8181818181818182\n",
      "Recall Score: 0.47058823529411764\n",
      "AUC: 0.6727941176470589\n",
      "KS: 0.34558823529411764\n",
      "{'kernel': 'rbf', 'gamma': 'auto', 'C': 100}\n"
     ],
     "output_type":"stream"
    }
   ],
   "metadata":{
    "datalore":{
     "node_id":"PqbNZDOnRNXXD7OIbotRBU",
     "type":"CODE",
     "hide_input_from_viewers":true,
     "hide_output_from_viewers":true
    }
   }
  },
  {
   "cell_type":"markdown",
   "source":[
    "Note: \n",
    "\n",
    "Inverse of the first Random Forest we fitted. Here it basically tells that everyone is infected. Even though we wouldn't have any False Negatives, we would have to test everyone - this is useless.\n",
    "\n",
    "### XGBOOST "
   ],
   "attachments":{
    
   },
   "metadata":{
    "datalore":{
     "node_id":"51WQSfeT0YVxRpSCzABVb2",
     "type":"MD",
     "hide_input_from_viewers":true,
     "hide_output_from_viewers":true
    }
   }
  },
  {
   "cell_type":"code",
   "source":[
    "#import  xgboost as xgb\n",
    "\n",
    "\"\"\"random_grid = {\"n_estimators\":[15, 25, 50],\n",
    "               \"learning_rate\":[0.1, 0.05, 0.01],\n",
    "               \"max_depth\":[2, 8, 16],\n",
    "               \"colsample_bytree\":[0.3, 0.8, 1],\n",
    "               \"gammma\":[0.1,5]}\n",
    "xgb_clf = xgb.XGBClassifier(objective='binary:logistic')\n",
    "xgb_random = RandomizedSearchCV(estimator=xgb_clf,\n",
    "                                param_distributions=random_grid,\n",
    "                                n_iter=50,\n",
    "                                cv=5,\n",
    "                                scoring=\"recall\",\n",
    "                                verbose=0,\n",
    "                                random_state=42,\n",
    "                                n_jobs=-1)\n",
    "#Fit the random search model\n",
    "fit_and_print(xgb_random)\n",
    "print(xgb_random.best_params_)\"\"\""
   ],
   "execution_count":52,
   "outputs":[
    {
     "data":{
      "text\/plain":[
       "'random_grid = {\"n_estimators\":[15, 25, 50],\\n               \"learning_rate\":[0.1, 0.05, 0.01],\\n               \"max_depth\":[2, 8, 16],\\n               \"colsample_bytree\":[0.3, 0.8, 1],\\n               \"gammma\":[0.1,5]}\\nxgb_clf = xgb.XGBClassifier(objective=\\'binary:logistic\\')\\nxgb_random = RandomizedSearchCV(estimator=xgb_clf,\\n                                param_distributions=random_grid,\\n                                n_iter=50,\\n                                cv=5,\\n                                scoring=\"recall\",\\n                                verbose=0,\\n                                random_state=42,\\n                                n_jobs=-1)\\n#Fit the random search model\\nfit_and_print(xgb_random)\\nprint(xgb_random.best_params_)'"
      ]
     },
     "metadata":{
      
     },
     "output_type":"display_data"
    }
   ],
   "metadata":{
    "datalore":{
     "node_id":"TUVo8AJJZgNN5rwv1QA0AC",
     "type":"CODE",
     "hide_input_from_viewers":true,
     "hide_output_from_viewers":true
    }
   }
  },
  {
   "cell_type":"markdown",
   "source":[
    "Similar result to Random Forest, but not better. XGB probably would have achieved the same result as RF (only 1 FN more) with a more thorough GridSearch. Problem is, dataset is too small!\n",
    "\n",
    "### Feature Importances"
   ],
   "attachments":{
    
   },
   "metadata":{
    "datalore":{
     "node_id":"OuqW59H8vOyOFtOWITpTBB",
     "type":"MD",
     "hide_input_from_viewers":true,
     "hide_output_from_viewers":true
    }
   }
  },
  {
   "cell_type":"code",
   "source":[
    "feature_importances = pd.DataFrame(rf_random.best_estimator_.feature_importances_,\n",
    "                                index = features,\n",
    "                                    columns=['importance']).sort_values('importance', ascending=False)\n",
    "\n",
    "plt.figure(figsize=(12,6))\n",
    "feature_importances.importance.plot(kind='barh', color='green')\n",
    "plt.title('Feature Importance')\n",
    "plt.show()\n",
    "feature_importances.style.format({'importance': '{:.1%}'.format})\n",
    "print(feature_importances.importance*100)"
   ],
   "execution_count":53,
   "outputs":[
    {
     "name":"stdout",
     "text":[
      "Platelets                                           22.406875\n",
      "Leukocytes                                          21.811429\n",
      "has_disease                                         14.386839\n",
      "Eosinophils                                          9.100218\n",
      "Monocytes                                            6.292072\n",
      "Mean platelet volume                                 5.420258\n",
      "Red blood Cells                                      4.160125\n",
      "Lymphocytes                                          3.878287\n",
      "Basophils                                            3.819169\n",
      "Mean corpuscular volume (MCV)                        2.426519\n",
      "Patient age quantile                                 2.376348\n",
      "Mean corpuscular hemoglobin concentration (MCHC)     2.275723\n",
      "Red blood cell distribution width (RDW)              1.646138\n",
      "Name: importance, dtype: float64\n"
     ],
     "output_type":"stream"
    },
    {
     "data":{
      "image\/png":"[encoded data removed]"
     },
     "metadata":{
      "image\/png":{
       
      }
     },
     "output_type":"display_data"
    }
   ],
   "metadata":{
    "datalore":{
     "node_id":"CDB8SWoTUQwcJ5iesOrxEI",
     "type":"CODE",
     "hide_input_from_viewers":true,
     "hide_output_from_viewers":true
    }
   }
  },
  {
   "cell_type":"markdown",
   "source":[
    "The most important features are very similar to the ones we saw on the correlation heatmap.\n",
    "\n",
    "Leukocytes\n",
    "Platelets\n",
    "has_disease\n",
    "Eosionophils\n",
    "Mean platelet volume\n",
    "Monocytes\n",
    "Another good thing about the model is that age is the third less important feature - I think this is good, given that we know that there is an age relationship, but would like other features to be more relevant.\n",
    "\n",
    "Lastly, let's use SHAP Values to help us understand our model's predictions. You can read more about this wonderful technique on https:\/\/christophm.github.io\/interpretable-ml-book\/shap.html\n",
    "\n",
    "### SHAP Values"
   ],
   "attachments":{
    
   },
   "metadata":{
    "datalore":{
     "node_id":"au8xLMC0bXECRW9VoYk17p",
     "type":"MD",
     "hide_input_from_viewers":true,
     "hide_output_from_viewers":true
    }
   }
  },
  {
   "cell_type":"code",
   "source":[
    "import shap\n",
    "\n",
    "X = df_feat[features] \n",
    "y = df_feat['SARS-Cov-2 exam result'].values\n",
    "_, X_test, _, _ = train_test_split(X, y, test_size=0.2,\n",
    "                                   stratify=y, random_state=42)\n",
    "\n",
    "y_pred = rf_random.best_estimator_.predict(X_test)\n",
    "\n",
    "explainer = shap.TreeExplainer(rf_random.best_estimator_)\n",
    "expected_value = explainer.expected_value[1]\n",
    "\n",
    "shap_values = explainer.shap_values(X_test)[1]\n",
    "shap_interaction_values = explainer.shap_interaction_values(X_test)[1]\n",
    "np.save('shap_values.npy', shap_values)\n",
    "\n",
    "print(expected_value)"
   ],
   "execution_count":54,
   "outputs":[
    {
     "name":"stdout",
     "text":[
      "0.5026987951807229\n"
     ],
     "output_type":"stream"
    }
   ],
   "metadata":{
    "datalore":{
     "node_id":"HXo8xr2Gzlj6vRZfiyOLHS",
     "type":"CODE",
     "hide_input_from_viewers":true,
     "hide_output_from_viewers":true
    }
   }
  },
  {
   "cell_type":"markdown",
   "source":[
    "X = df_feat[features]\n",
    "y = df_feat['SARS-Cov-2 exam result'].values\n",
    "_,X_test,_,_ = train_test_split(X,y,test_size=0.2,stratify=0.2,\n",
    "                                random_state=42)\n",
    "\n",
    "y_pred = rf_random.best_estimator_.predict(X_test)\n",
    "\n",
    "explainer = shap.TreeExplainer(rf_random.best_estimator_)\n",
    "expected_value = explainer.shape_values(X_test)[1]\n",
    "\n",
    "shap_values = explainer.shape_values(X_test)[1]\n",
    "shap_interaction_values = explainer.shape_interaction_values(X_test)[1]\n",
    "np.save(\"shap_values.npy\",shap_values)\n",
    "\n",
    "print(expected_value)"
   ],
   "attachments":{
    
   },
   "metadata":{
    "datalore":{
     "node_id":"7sq1EueEB2d06JhjvywRXC",
     "type":"MD",
     "hide_input_from_viewers":true,
     "hide_output_from_viewers":true
    }
   }
  },
  {
   "cell_type":"markdown",
   "source":[
    "Note : \n",
    "\n",
    "We can use Decision Plots to see, for each instance, the impact of each variable on the base value. In all subsequent plots the base value is 0.5; values above it are classified as positive and below it, negative. Features are ranked in the plot by their importance to that specific observation.\n",
    "\n",
    "### True Positive Examples"
   ],
   "attachments":{
    
   },
   "metadata":{
    "datalore":{
     "node_id":"8evCr9F4DhxlwGWEaQbRTO",
     "type":"MD",
     "hide_input_from_viewers":true,
     "hide_output_from_viewers":true
    }
   }
  },
  {
   "cell_type":"code",
   "source":[
    "import shap\n",
    "shap.decision_plot(expected_value,shap_values[34],X_test.iloc[34])"
   ],
   "execution_count":55,
   "outputs":[
    {
     "data":{
      "image\/png":"[encoded data removed]"
     },
     "metadata":{
      "image\/png":{
       
      }
     },
     "output_type":"display_data"
    }
   ],
   "metadata":{
    "datalore":{
     "node_id":"uZeYOJaxWRoafwcHyqfLv6",
     "type":"CODE",
     "hide_input_from_viewers":true,
     "hide_output_from_viewers":true
    }
   }
  },
  {
   "cell_type":"code",
   "source":[
    "shap.decision_plot(expected_value,shap_values[87],X_test.iloc[87])"
   ],
   "execution_count":56,
   "outputs":[
    {
     "data":{
      "image\/png":"[encoded data removed]"
     },
     "metadata":{
      "image\/png":{
       
      }
     },
     "output_type":"display_data"
    }
   ],
   "metadata":{
    "datalore":{
     "node_id":"VhZsSvEIAGlfjUTe3oXXcm",
     "type":"CODE",
     "hide_input_from_viewers":true,
     "hide_output_from_viewers":true
    }
   }
  },
  {
   "cell_type":"markdown",
   "source":[
    "Note:\n",
    "\n",
    "In this example, we can see that considering all other variables besides has_disease, this patient would be classified as positive. The fact that he\/she has a disease, however, \"abruptly\" changes the decision to not infected. This is an indication that blood variables are similar to a COVID-19 infected person, but this is due to the fact that he\/she has another disease.\n",
    "\n",
    "False Positive Example"
   ],
   "attachments":{
    
   },
   "metadata":{
    "datalore":{
     "node_id":"ey3wfZ2oz4MWsQsXRccBj7",
     "type":"MD",
     "hide_input_from_viewers":true,
     "hide_output_from_viewers":true
    }
   }
  },
  {
   "cell_type":"code",
   "source":[
    "shap.decision_plot(expected_value,shap_values[57],X_test.iloc[57])"
   ],
   "execution_count":57,
   "outputs":[
    {
     "data":{
      "image\/png":"[encoded data removed]"
     },
     "metadata":{
      "image\/png":{
       
      }
     },
     "output_type":"display_data"
    }
   ],
   "metadata":{
    "datalore":{
     "node_id":"QQihKXW0ALwPSlNHVBhHcG",
     "type":"CODE",
     "hide_input_from_viewers":true,
     "hide_output_from_viewers":true
    }
   }
  },
  {
   "cell_type":"markdown",
   "source":[
    "False positives are tricky, at least to me, to analyze, since I have little medical expertise. But hopefully a doctor can extract knowledge from this kind of plot (from what I understand, this person has Platelets and Leukocytes very similar to healthy people, but was infected).\n",
    "\n",
    "### False Negative Example"
   ],
   "attachments":{
    
   },
   "metadata":{
    "datalore":{
     "node_id":"mR5ZPy7r2GJdnSK52Tz6pW",
     "type":"MD",
     "hide_input_from_viewers":true,
     "hide_output_from_viewers":true
    }
   }
  },
  {
   "cell_type":"code",
   "source":[
    "shap.decision_plot(expected_value,shap_values[40],X_test.iloc[40])"
   ],
   "execution_count":58,
   "outputs":[
    {
     "data":{
      "image\/png":"[encoded data removed]"
     },
     "metadata":{
      "image\/png":{
       
      }
     },
     "output_type":"display_data"
    }
   ],
   "metadata":{
    "datalore":{
     "node_id":"C6BxijbmnfE2TfeVzNZjBc",
     "type":"CODE",
     "hide_input_from_viewers":true,
     "hide_output_from_viewers":true
    }
   }
  },
  {
   "cell_type":"markdown",
   "source":[
    "The same analysis can be done to the false negatives. In this case, the two variables that greatly pushed the prediction to \"healthy\" were Platelets and Red blood Cells. This indicates that, for this individual, even though he was infected, this two variables indicate otherwise.\n",
    "\n",
    "### Dependence Plots\n",
    "\n",
    "Another way SHAP can help us understand model predictions is to use Dependence Plots. They plot the SHAP values for a given variable on y axis and variable value on x axis. The plot automatically colors the points with a variable estimated to have the higher correlation. Positive SHAP values indicate that the feature is \"helping\" the positive class (i.e., pushing the prediction to be \"infected\"), whereas negative SHAP values indicate that the feature is pushing the prediction to be \"not-infected\". This way, we can see how SHAP values vary with feature value."
   ],
   "attachments":{
    
   },
   "metadata":{
    "datalore":{
     "node_id":"eE4WdbJjWklj97Pui5Fxuy",
     "type":"MD",
     "hide_input_from_viewers":true,
     "hide_output_from_viewers":true
    }
   }
  },
  {
   "cell_type":"code",
   "source":[
    "shap.dependence_plot(\"Platelets\",shap_values,X_test,alpha=0.8,show=False)\n",
    "plt.title(\"Platelets dependece plot\")\n",
    "plt.axhline(0,lw=3)\n",
    "plt.show()"
   ],
   "execution_count":59,
   "outputs":[
    {
     "data":{
      "image\/png":"[encoded data removed]"
     },
     "metadata":{
      "image\/png":{
       
      }
     },
     "output_type":"display_data"
    }
   ],
   "metadata":{
    "datalore":{
     "node_id":"QasBGf3xgxsXfuCHuh0iRi",
     "type":"CODE",
     "hide_input_from_viewers":true,
     "hide_output_from_viewers":true
    }
   }
  },
  {
   "cell_type":"markdown",
   "source":[
    "Note:\n",
    "\n",
    "For platelets, there is a clear relationship between low values (help \"infected\") and high values (help \"non-infected\"), though it is not linear and somewhat muddy around 0."
   ],
   "attachments":{
    
   },
   "metadata":{
    "datalore":{
     "node_id":"NbDb0H8SWZffeH5ds1rtHo",
     "type":"MD",
     "hide_input_from_viewers":true,
     "hide_output_from_viewers":true
    }
   }
  },
  {
   "cell_type":"code",
   "source":[
    "shap.dependence_plot(\"has_disease\",shap_values,X_test,alpha=0.8,show=False)\n",
    "plt.title(\"Has_disease dependence plot\")\n",
    "plt.axhline(0,lw=3)\n",
    "plt.show()"
   ],
   "execution_count":60,
   "outputs":[
    {
     "data":{
      "image\/png":"[encoded data removed]"
     },
     "metadata":{
      "image\/png":{
       
      }
     },
     "output_type":"display_data"
    }
   ],
   "metadata":{
    "datalore":{
     "node_id":"14KuCU6e6kq4GNbQnjZb4i",
     "type":"CODE",
     "hide_input_from_viewers":true,
     "hide_output_from_viewers":true
    }
   }
  },
  {
   "cell_type":"markdown",
   "source":[
    "Note :\n",
    "\n",
    "Another good sign that our model is calibrated is that all people with a previous disease helped the prediction to be not-infected. And, given that the person has a disease, the higher the value of Platelets (blue points), the more the prediction is pushed towards \"not-infected\"\n",
    "        "
   ],
   "attachments":{
    
   },
   "metadata":{
    "datalore":{
     "node_id":"vAzDZyUTs6pFjWm0rCiMJj",
     "type":"MD",
     "hide_input_from_viewers":true,
     "hide_output_from_viewers":true
    }
   }
  },
  {
   "cell_type":"code",
   "source":[
    "shap.dependence_plot(\"Leukocytes\",shap_values,X_test,alpha=0.8,show=False)\n",
    "plt.title(\"Leukocytes dependence plot\")\n",
    "plt.axhline(0,lw=3)\n",
    "plt.show()"
   ],
   "execution_count":61,
   "outputs":[
    {
     "data":{
      "image\/png":"[encoded data removed]"
     },
     "metadata":{
      "image\/png":{
       
      }
     },
     "output_type":"display_data"
    }
   ],
   "metadata":{
    "datalore":{
     "node_id":"MjHln2nv7e4kSzTh9W9dDb",
     "type":"CODE",
     "hide_input_from_viewers":true,
     "hide_output_from_viewers":true
    }
   }
  },
  {
   "cell_type":"markdown",
   "source":[
    "Note:\n",
    "Basically the same behavior of Platelets is observed for Leukocytes. \n",
    "        "
   ],
   "attachments":{
    
   },
   "metadata":{
    "datalore":{
     "node_id":"ulWjGE2Sl8OX8PqOzyHZXn",
     "type":"MD",
     "hide_input_from_viewers":true,
     "hide_output_from_viewers":true
    }
   }
  },
  {
   "cell_type":"code",
   "source":[
    "shap.dependence_plot(\"Monocytes\",shap_values,X_test,alpha=0.8,show=False)\n",
    "plt.title(\"Monocytes\")\n",
    "plt.axhline(0,lw=3)\n",
    "plt.show()"
   ],
   "execution_count":69,
   "outputs":[
    {
     "data":{
      "image\/png":"[encoded data removed]"
     },
     "metadata":{
      "image\/png":{
       
      }
     },
     "output_type":"display_data"
    }
   ],
   "metadata":{
    "datalore":{
     "node_id":"XhFtZQUO75KVc8KFubUbsJ",
     "type":"CODE",
     "hide_input_from_viewers":true,
     "hide_output_from_viewers":true
    }
   }
  },
  {
   "cell_type":"markdown",
   "source":[
    "Note:\n",
    "\n",
    "For Monocytes, the trend is clear as well. Higher values push the predictions to \"infected      "
   ],
   "attachments":{
    
   },
   "metadata":{
    "datalore":{
     "node_id":"lepOttflv5gyY3vptwgS64",
     "type":"MD",
     "hide_input_from_viewers":true,
     "hide_output_from_viewers":true
    }
   }
  },
  {
   "cell_type":"code",
   "source":[
    "shap.dependence_plot(\"Patient age quantile\",shap_values,X_test,alpha=0.8,show=False)\n",
    "plt.title(\"Patient age quantile dependance plot\")\n",
    "plt.axhline(0,lw=3)\n",
    "plt.show()"
   ],
   "execution_count":64,
   "outputs":[
    {
     "data":{
      "image\/png":"[encoded data removed]"
     },
     "metadata":{
      "image\/png":{
       
      }
     },
     "output_type":"display_data"
    }
   ],
   "metadata":{
    "datalore":{
     "node_id":"1nYRlXe0bhbjnPxyGvWx2z",
     "type":"CODE",
     "hide_input_from_viewers":true,
     "hide_output_from_viewers":true
    }
   }
  },
  {
   "cell_type":"markdown",
   "source":[
    "Note :\n",
    "\n",
    "And for the age, the known relationship of increasing risk is observed as well. There is a clear trend: model pushes predictions towards \"infected\" for older patients. All patients below age quantile 10 pushed prediction towards \"not infected\". However, for older people sometimes the model pushes observations towards \"not infected\", meaning that age does not have a perfect linear relationship with infection.\n",
    "\n",
    "### Summary Plot\n",
    "\n",
    "We can look at a Summary Plot as well - this gives all SHAP values for every feature, displayed horizontally. Feature value is used as color and features are ranked by importance."
   ],
   "attachments":{
    
   },
   "metadata":{
    "datalore":{
     "node_id":"8vIwZ5dWcyiyxZciLTaALO",
     "type":"MD",
     "hide_input_from_viewers":true,
     "hide_output_from_viewers":true
    }
   }
  },
  {
   "cell_type":"code",
   "source":[
    "shap.summary_plot(shap_values,X_test)"
   ],
   "execution_count":65,
   "outputs":[
    {
     "data":{
      "image\/png":"[encoded data removed]"
     },
     "metadata":{
      "image\/png":{
       
      }
     },
     "output_type":"display_data"
    }
   ],
   "metadata":{
    "datalore":{
     "node_id":"4xesOQJqgw5upTgTqWAIfw",
     "type":"CODE",
     "hide_input_from_viewers":true,
     "hide_output_from_viewers":true
    }
   }
  },
  {
   "cell_type":"markdown",
   "source":[
    "Note: \n",
    "\n",
    "This confirms and summarizes all of our previous findings. Low values for Leukocytes, Platelets and Eosinophils are a strong indicator of COVID-19 presence, as well as the has_disease variable. High values of Monocytes are a strong indicator of COVID-19 presence. For the other variables SHAP Values are highly skewed towards \"not infected\" (negative values), with a somewhat \"muddy terrain\" around 0.\n",
    "\n",
    "### All False Negative (FN) Predictions\n",
    "\n",
    "We again use a decision plot, this time to look at the prediction paths of all the 5 False Negatives."
   ],
   "attachments":{
    
   },
   "metadata":{
    "datalore":{
     "node_id":"pLq6ZIKFq0UTc6OArfuzxg",
     "type":"MD",
     "hide_input_from_viewers":true,
     "hide_output_from_viewers":true
    }
   }
  },
  {
   "cell_type":"code",
   "source":[
    "X_fn = X_test[(y_pred==0)&(y_test ==1)]\n",
    "shap_fn = shap_values[(y_pred==0)&(y_test ==1)]\n",
    "\n",
    "shap.decision_plot(expected_value,shap_fn,X_fn,feature_order=\"hclust\")"
   ],
   "execution_count":66,
   "outputs":[
    {
     "data":{
      "image\/png":"[encoded data removed]"
     },
     "metadata":{
      "image\/png":{
       
      }
     },
     "output_type":"display_data"
    }
   ],
   "metadata":{
    "datalore":{
     "node_id":"m0zzVuWfBQ8oO67qicD3e2",
     "type":"CODE",
     "hide_input_from_viewers":true,
     "hide_output_from_viewers":true
    }
   }
  },
  {
   "cell_type":"markdown",
   "source":[
    "The main takeaway is that there is no \"single path\" that leads to False Negative predictions. Two of the classifications were close to the decision threshold (two lines near 0.4), while the other 3 were \"pretty sure the patient is not infected\". Once again, I have no medical expertise to thoroughly analyze this, but hopefully a doctor can make sense of this.\n",
    "\n",
    "## Conclusion\n",
    "\n",
    "I conducted an analysis, based on 101 variables from 5644 records kindly provided by Hospital Israelita Albert Einstein, to predict if a patient was infected by COVID-19 or not. I chose to maximize the Recall metric, given how costly a False Negative is.\n",
    "\n",
    "After dealing with missing data, conducting oversampling with SMOTE and conducting GridSearch with a lot of models, the best result came from Random Forest, with 71% Recall, 91% Accuracy and 82% AUC. This is an acceptable value for Recall without sacrificing Accuracy (thus, few False Positives), and the model should perform much better with more data.\n",
    "\n",
    "I also used SHAP to better understand model predictions, with the main takeaways being:\n",
    "\n",
    "Low values for Leukocytes, Platelets and Eosinophils are a strong indicator of COVID-19 presence;\n",
    "If a person tested positive for any of the diseases contained in the dataset, it is highly likely that he\/she will not have the COVID-19;\n",
    "High values of Monocytes are a strong indicator of COVID-19 presence;\n",
    "For the other variables SHAP Values are highly skewed towards \"not infected\", becoming less certain for neutral and positive contributions for \"infected\";\n",
    "There is no \"single path\" that leads to False Negative predictions. The implications and meanings have to be better assessed by a doctor."
   ],
   "attachments":{
    
   },
   "metadata":{
    "datalore":{
     "node_id":"Jx8RNXQyXpgqGirYMxuCf6",
     "type":"MD",
     "hide_input_from_viewers":true,
     "hide_output_from_viewers":true
    }
   }
  }
 ],
 "metadata":{
  "kernelspec":{
   "display_name":"Python",
   "language":"python",
   "name":"python"
  },
  "datalore":{
   "computation_mode":"JUPYTER",
   "package_manager":"pip",
   "base_environment":"default",
   "packages":[
    {
     "name":"openpyxl",
     "version":"3.2.0b1",
     "source":"PIP"
    },
    {
     "name":"imblearn",
     "version":"0.0",
     "source":"PIP"
    },
    {
     "name":"shape",
     "version":"0.1.1",
     "source":"PIP"
    },
    {
     "name":"shap",
     "version":"0.41.0",
     "source":"PIP"
    }
   ],
   "report_row_ids":[
    
   ],
   "version":3
  }
 },
 "nbformat":4,
 "nbformat_minor":4
}